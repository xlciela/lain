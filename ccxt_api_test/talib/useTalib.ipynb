{
 "cells": [
  {
   "cell_type": "code",
   "execution_count": 1,
   "metadata": {},
   "outputs": [],
   "source": [
    "import numpy as np\n",
    "import pandas as pd\n",
    "import talib"
   ]
  },
  {
   "cell_type": "code",
   "execution_count": 3,
   "metadata": {},
   "outputs": [],
   "source": [
    "import ccxt\n",
    "exchange = ccxt.binancecoinm({\n",
    "\t'apiKey': '296015e94a672f83bfb4076908741a255cd5c9f192da047d12eb63cff4c73a7e',\n",
    "\t'secret': '4ecd9157f7b1a8486742374e9627d4ae4cfca3b997d1532ef447dc915fad62f5',\n",
    "})\n",
    "# turn on testnet\n",
    "# hasattr(exchange, 'set_sandbox_mode')\n",
    "exchange.set_sandbox_mode(True)"
   ]
  },
  {
   "cell_type": "code",
   "execution_count": 21,
   "metadata": {},
   "outputs": [
    {
     "data": {
      "text/plain": [
       "{'publicAPI': True,\n",
       " 'privateAPI': True,\n",
       " 'CORS': None,\n",
       " 'spot': False,\n",
       " 'margin': False,\n",
       " 'swap': True,\n",
       " 'future': True,\n",
       " 'option': None,\n",
       " 'addMargin': True,\n",
       " 'cancelAllOrders': True,\n",
       " 'cancelOrder': True,\n",
       " 'cancelOrders': None,\n",
       " 'createDepositAddress': False,\n",
       " 'createLimitOrder': True,\n",
       " 'createMarketOrder': True,\n",
       " 'createOrder': True,\n",
       " 'createPostOnlyOrder': True,\n",
       " 'createReduceOnlyOrder': True,\n",
       " 'createStopOrder': True,\n",
       " 'createStopLimitOrder': True,\n",
       " 'createStopMarketOrder': True,\n",
       " 'editOrder': True,\n",
       " 'fetchAccounts': None,\n",
       " 'fetchBalance': True,\n",
       " 'fetchBidsAsks': True,\n",
       " 'fetchBorrowInterest': True,\n",
       " 'fetchBorrowRate': True,\n",
       " 'fetchBorrowRateHistory': True,\n",
       " 'fetchBorrowRatesPerSymbol': False,\n",
       " 'fetchBorrowRates': False,\n",
       " 'fetchCanceledOrders': False,\n",
       " 'fetchClosedOrder': False,\n",
       " 'fetchClosedOrders': 'emulated',\n",
       " 'fetchCurrencies': True,\n",
       " 'fetchDeposit': False,\n",
       " 'fetchDepositAddress': True,\n",
       " 'fetchDepositAddresses': False,\n",
       " 'fetchDepositAddressesByNetwork': False,\n",
       " 'fetchDeposits': True,\n",
       " 'fetchFundingFee': None,\n",
       " 'fetchFundingFees': None,\n",
       " 'fetchFundingHistory': True,\n",
       " 'fetchFundingRate': True,\n",
       " 'fetchFundingRateHistory': True,\n",
       " 'fetchFundingRates': True,\n",
       " 'fetchIndexOHLCV': True,\n",
       " 'fetchL2OrderBook': True,\n",
       " 'fetchLedger': True,\n",
       " 'fetchLedgerEntry': None,\n",
       " 'fetchLeverageTiers': True,\n",
       " 'fetchMarketLeverageTiers': 'emulated',\n",
       " 'fetchMarkets': True,\n",
       " 'fetchMarkOHLCV': True,\n",
       " 'fetchMyTrades': True,\n",
       " 'fetchOHLCV': True,\n",
       " 'fetchOpenOrder': False,\n",
       " 'fetchOpenOrders': True,\n",
       " 'fetchOrder': True,\n",
       " 'fetchOrderBook': True,\n",
       " 'fetchOrderBooks': False,\n",
       " 'fetchOrders': True,\n",
       " 'fetchOrderTrades': True,\n",
       " 'fetchPermissions': None,\n",
       " 'fetchPosition': None,\n",
       " 'fetchPositions': True,\n",
       " 'fetchPositionsRisk': True,\n",
       " 'fetchPremiumIndexOHLCV': False,\n",
       " 'fetchStatus': True,\n",
       " 'fetchTicker': True,\n",
       " 'fetchTickers': True,\n",
       " 'fetchTime': True,\n",
       " 'fetchTrades': True,\n",
       " 'fetchTradingFee': True,\n",
       " 'fetchTradingFees': True,\n",
       " 'fetchTradingLimits': None,\n",
       " 'fetchTransactions': False,\n",
       " 'fetchTransfers': True,\n",
       " 'fetchWithdrawal': False,\n",
       " 'fetchWithdrawals': True,\n",
       " 'reduceMargin': True,\n",
       " 'setLeverage': True,\n",
       " 'setMargin': False,\n",
       " 'setMarginMode': True,\n",
       " 'setPositionMode': True,\n",
       " 'signIn': False,\n",
       " 'transfer': True,\n",
       " 'withdraw': True,\n",
       " 'borrowMargin': True,\n",
       " 'fetchBorrowRateHistories': False,\n",
       " 'fetchDepositWithdrawFee': 'emulated',\n",
       " 'fetchDepositWithdrawFees': True,\n",
       " 'fetchL3OrderBook': None,\n",
       " 'fetchLastPrices': True,\n",
       " 'fetchLeverage': False,\n",
       " 'fetchOpenInterest': True,\n",
       " 'fetchOpenInterestHistory': True,\n",
       " 'fetchSettlementHistory': True,\n",
       " 'fetchTransactionFee': None,\n",
       " 'fetchTransactionFees': True,\n",
       " 'fetchWithdrawalWhitelist': False,\n",
       " 'repayMargin': True}"
      ]
     },
     "execution_count": 21,
     "metadata": {},
     "output_type": "execute_result"
    }
   ],
   "source": [
    "exchange.has"
   ]
  },
  {
   "cell_type": "code",
   "execution_count": 49,
   "metadata": {},
   "outputs": [],
   "source": [
    "df = pd.DataFrame(exchange.fetchOhlcvc(symbol='ETHUSD_PERP', timeframe='1h', limit=500))"
   ]
  },
  {
   "cell_type": "code",
   "execution_count": 50,
   "metadata": {},
   "outputs": [
    {
     "data": {
      "text/plain": [
       "<bound method NDFrame.head of                 0        1        2        3        4        5    6\n",
       "0   1613394000000  1500.00  1607.27   596.40  1607.27     77.0   16\n",
       "1   1613548800000  1800.00  1800.00  1800.00  1800.00    134.0    2\n",
       "2   1613556000000  1600.00  1600.00   596.40   596.40     15.0    2\n",
       "3   1614960000000  1562.22  1562.22  1562.22  1562.22     10.0    1\n",
       "4   1615312800000  1746.28  1746.28  1746.28  1746.28     10.0    1\n",
       "5   1616083200000  1746.28  1746.28  1746.28  1746.28      1.0    1\n",
       "6   1616144400000  1748.00  1748.00  1748.00  1748.00     10.0    1\n",
       "7   1616148000000  1748.00  1756.00  1748.00  1756.00     92.0   10\n",
       "8   1616162400000  1806.33  1806.33  1806.33  1806.33      2.0    2\n",
       "9   1617001200000  1806.33  1806.33  1746.28  1746.28    286.0   11\n",
       "10  1617109200000  1750.00  1750.00  1750.00  1750.00     70.0    1\n",
       "11  1617170400000  1746.28  1746.28  1746.28  1746.28      1.0    1\n",
       "12  1620658800000  4100.00  4100.00  1746.28  1746.28      2.0    2\n",
       "13  1620792000000  3452.00  3452.00  3452.00  3452.00      2.0    2\n",
       "14  1621054800000  4400.38  4400.38  4400.38  4400.38     12.0    1\n",
       "15  1625202000000  1746.28  1746.28  1746.28  1746.28     10.0    1\n",
       "16  1626145200000  2100.00  2100.00  1746.28  1746.28      4.0    2\n",
       "17  1626260400000  2100.00  2100.00  1746.28  1746.28      6.0    5\n",
       "18  1626408000000  2100.00  2100.00  1746.28  1746.28      4.0    2\n",
       "19  1626688800000  1837.40  1838.10  1833.20  1838.10      4.0    4\n",
       "20  1626876000000  1838.10  1838.10  1838.10  1838.10      1.0    1\n",
       "21  1626879600000  1832.50  1838.10  1831.80  1831.80      3.0    3\n",
       "22  1626883200000  1838.10  2100.00  1562.22  1562.22  62562.0   29\n",
       "23  1628665200000  3545.60  3569.79  2918.90  3479.79   3016.0  385\n",
       "24  1628755200000  3261.98  3261.98  3261.98  3261.98     10.0    1\n",
       "25  1629205200000  3418.00  3418.00  3418.00  3418.00      1.0    1\n",
       "26  1629370800000  3418.00  3418.00  3418.00  3418.00      5.0    1\n",
       "27  1629892800000  3418.00  3418.00  3204.11  3204.11      8.0    3\n",
       "28  1633435200000  3466.36  3466.36  3466.36  3466.36      1.0    1\n",
       "29  1637208000000  4404.11  4404.11  4404.11  4404.11     19.0    1\n",
       "30  1638345600000  4073.42  4073.42  4073.42  4073.42     19.0    1\n",
       "31  1638428400000  4073.42  4707.26  4073.42  4707.26   7580.0    4>"
      ]
     },
     "execution_count": 50,
     "metadata": {},
     "output_type": "execute_result"
    }
   ],
   "source": [
    "df.head"
   ]
  },
  {
   "cell_type": "code",
   "execution_count": 51,
   "metadata": {},
   "outputs": [],
   "source": [
    "df.columns = ['time', 'open','high', 'close', 'volume','omit','omit2']"
   ]
  },
  {
   "cell_type": "code",
   "execution_count": 57,
   "metadata": {},
   "outputs": [
    {
     "data": {
      "text/html": [
       "<div>\n",
       "<style scoped>\n",
       "    .dataframe tbody tr th:only-of-type {\n",
       "        vertical-align: middle;\n",
       "    }\n",
       "\n",
       "    .dataframe tbody tr th {\n",
       "        vertical-align: top;\n",
       "    }\n",
       "\n",
       "    .dataframe thead th {\n",
       "        text-align: right;\n",
       "    }\n",
       "</style>\n",
       "<table border=\"1\" class=\"dataframe\">\n",
       "  <thead>\n",
       "    <tr style=\"text-align: right;\">\n",
       "      <th></th>\n",
       "      <th>open</th>\n",
       "      <th>high</th>\n",
       "      <th>close</th>\n",
       "      <th>volume</th>\n",
       "    </tr>\n",
       "    <tr>\n",
       "      <th>time</th>\n",
       "      <th></th>\n",
       "      <th></th>\n",
       "      <th></th>\n",
       "      <th></th>\n",
       "    </tr>\n",
       "  </thead>\n",
       "  <tbody>\n",
       "    <tr>\n",
       "      <th>2021-02-15 13:00:00</th>\n",
       "      <td>1500.00</td>\n",
       "      <td>1607.27</td>\n",
       "      <td>596.40</td>\n",
       "      <td>1607.27</td>\n",
       "    </tr>\n",
       "    <tr>\n",
       "      <th>2021-02-17 08:00:00</th>\n",
       "      <td>1800.00</td>\n",
       "      <td>1800.00</td>\n",
       "      <td>1800.00</td>\n",
       "      <td>1800.00</td>\n",
       "    </tr>\n",
       "    <tr>\n",
       "      <th>2021-02-17 10:00:00</th>\n",
       "      <td>1600.00</td>\n",
       "      <td>1600.00</td>\n",
       "      <td>596.40</td>\n",
       "      <td>596.40</td>\n",
       "    </tr>\n",
       "    <tr>\n",
       "      <th>2021-03-05 16:00:00</th>\n",
       "      <td>1562.22</td>\n",
       "      <td>1562.22</td>\n",
       "      <td>1562.22</td>\n",
       "      <td>1562.22</td>\n",
       "    </tr>\n",
       "    <tr>\n",
       "      <th>2021-03-09 18:00:00</th>\n",
       "      <td>1746.28</td>\n",
       "      <td>1746.28</td>\n",
       "      <td>1746.28</td>\n",
       "      <td>1746.28</td>\n",
       "    </tr>\n",
       "    <tr>\n",
       "      <th>2021-03-18 16:00:00</th>\n",
       "      <td>1746.28</td>\n",
       "      <td>1746.28</td>\n",
       "      <td>1746.28</td>\n",
       "      <td>1746.28</td>\n",
       "    </tr>\n",
       "    <tr>\n",
       "      <th>2021-03-19 09:00:00</th>\n",
       "      <td>1748.00</td>\n",
       "      <td>1748.00</td>\n",
       "      <td>1748.00</td>\n",
       "      <td>1748.00</td>\n",
       "    </tr>\n",
       "    <tr>\n",
       "      <th>2021-03-19 10:00:00</th>\n",
       "      <td>1748.00</td>\n",
       "      <td>1756.00</td>\n",
       "      <td>1748.00</td>\n",
       "      <td>1756.00</td>\n",
       "    </tr>\n",
       "    <tr>\n",
       "      <th>2021-03-19 14:00:00</th>\n",
       "      <td>1806.33</td>\n",
       "      <td>1806.33</td>\n",
       "      <td>1806.33</td>\n",
       "      <td>1806.33</td>\n",
       "    </tr>\n",
       "    <tr>\n",
       "      <th>2021-03-29 07:00:00</th>\n",
       "      <td>1806.33</td>\n",
       "      <td>1806.33</td>\n",
       "      <td>1746.28</td>\n",
       "      <td>1746.28</td>\n",
       "    </tr>\n",
       "    <tr>\n",
       "      <th>2021-03-30 13:00:00</th>\n",
       "      <td>1750.00</td>\n",
       "      <td>1750.00</td>\n",
       "      <td>1750.00</td>\n",
       "      <td>1750.00</td>\n",
       "    </tr>\n",
       "    <tr>\n",
       "      <th>2021-03-31 06:00:00</th>\n",
       "      <td>1746.28</td>\n",
       "      <td>1746.28</td>\n",
       "      <td>1746.28</td>\n",
       "      <td>1746.28</td>\n",
       "    </tr>\n",
       "    <tr>\n",
       "      <th>2021-05-10 15:00:00</th>\n",
       "      <td>4100.00</td>\n",
       "      <td>4100.00</td>\n",
       "      <td>1746.28</td>\n",
       "      <td>1746.28</td>\n",
       "    </tr>\n",
       "    <tr>\n",
       "      <th>2021-05-12 04:00:00</th>\n",
       "      <td>3452.00</td>\n",
       "      <td>3452.00</td>\n",
       "      <td>3452.00</td>\n",
       "      <td>3452.00</td>\n",
       "    </tr>\n",
       "    <tr>\n",
       "      <th>2021-05-15 05:00:00</th>\n",
       "      <td>4400.38</td>\n",
       "      <td>4400.38</td>\n",
       "      <td>4400.38</td>\n",
       "      <td>4400.38</td>\n",
       "    </tr>\n",
       "    <tr>\n",
       "      <th>2021-07-02 05:00:00</th>\n",
       "      <td>1746.28</td>\n",
       "      <td>1746.28</td>\n",
       "      <td>1746.28</td>\n",
       "      <td>1746.28</td>\n",
       "    </tr>\n",
       "    <tr>\n",
       "      <th>2021-07-13 03:00:00</th>\n",
       "      <td>2100.00</td>\n",
       "      <td>2100.00</td>\n",
       "      <td>1746.28</td>\n",
       "      <td>1746.28</td>\n",
       "    </tr>\n",
       "    <tr>\n",
       "      <th>2021-07-14 11:00:00</th>\n",
       "      <td>2100.00</td>\n",
       "      <td>2100.00</td>\n",
       "      <td>1746.28</td>\n",
       "      <td>1746.28</td>\n",
       "    </tr>\n",
       "    <tr>\n",
       "      <th>2021-07-16 04:00:00</th>\n",
       "      <td>2100.00</td>\n",
       "      <td>2100.00</td>\n",
       "      <td>1746.28</td>\n",
       "      <td>1746.28</td>\n",
       "    </tr>\n",
       "    <tr>\n",
       "      <th>2021-07-19 10:00:00</th>\n",
       "      <td>1837.40</td>\n",
       "      <td>1838.10</td>\n",
       "      <td>1833.20</td>\n",
       "      <td>1838.10</td>\n",
       "    </tr>\n",
       "    <tr>\n",
       "      <th>2021-07-21 14:00:00</th>\n",
       "      <td>1838.10</td>\n",
       "      <td>1838.10</td>\n",
       "      <td>1838.10</td>\n",
       "      <td>1838.10</td>\n",
       "    </tr>\n",
       "    <tr>\n",
       "      <th>2021-07-21 15:00:00</th>\n",
       "      <td>1832.50</td>\n",
       "      <td>1838.10</td>\n",
       "      <td>1831.80</td>\n",
       "      <td>1831.80</td>\n",
       "    </tr>\n",
       "    <tr>\n",
       "      <th>2021-07-21 16:00:00</th>\n",
       "      <td>1838.10</td>\n",
       "      <td>2100.00</td>\n",
       "      <td>1562.22</td>\n",
       "      <td>1562.22</td>\n",
       "    </tr>\n",
       "    <tr>\n",
       "      <th>2021-08-11 07:00:00</th>\n",
       "      <td>3545.60</td>\n",
       "      <td>3569.79</td>\n",
       "      <td>2918.90</td>\n",
       "      <td>3479.79</td>\n",
       "    </tr>\n",
       "    <tr>\n",
       "      <th>2021-08-12 08:00:00</th>\n",
       "      <td>3261.98</td>\n",
       "      <td>3261.98</td>\n",
       "      <td>3261.98</td>\n",
       "      <td>3261.98</td>\n",
       "    </tr>\n",
       "    <tr>\n",
       "      <th>2021-08-17 13:00:00</th>\n",
       "      <td>3418.00</td>\n",
       "      <td>3418.00</td>\n",
       "      <td>3418.00</td>\n",
       "      <td>3418.00</td>\n",
       "    </tr>\n",
       "    <tr>\n",
       "      <th>2021-08-19 11:00:00</th>\n",
       "      <td>3418.00</td>\n",
       "      <td>3418.00</td>\n",
       "      <td>3418.00</td>\n",
       "      <td>3418.00</td>\n",
       "    </tr>\n",
       "    <tr>\n",
       "      <th>2021-08-25 12:00:00</th>\n",
       "      <td>3418.00</td>\n",
       "      <td>3418.00</td>\n",
       "      <td>3204.11</td>\n",
       "      <td>3204.11</td>\n",
       "    </tr>\n",
       "    <tr>\n",
       "      <th>2021-10-05 12:00:00</th>\n",
       "      <td>3466.36</td>\n",
       "      <td>3466.36</td>\n",
       "      <td>3466.36</td>\n",
       "      <td>3466.36</td>\n",
       "    </tr>\n",
       "    <tr>\n",
       "      <th>2021-11-18 04:00:00</th>\n",
       "      <td>4404.11</td>\n",
       "      <td>4404.11</td>\n",
       "      <td>4404.11</td>\n",
       "      <td>4404.11</td>\n",
       "    </tr>\n",
       "    <tr>\n",
       "      <th>2021-12-01 08:00:00</th>\n",
       "      <td>4073.42</td>\n",
       "      <td>4073.42</td>\n",
       "      <td>4073.42</td>\n",
       "      <td>4073.42</td>\n",
       "    </tr>\n",
       "    <tr>\n",
       "      <th>2021-12-02 07:00:00</th>\n",
       "      <td>4073.42</td>\n",
       "      <td>4707.26</td>\n",
       "      <td>4073.42</td>\n",
       "      <td>4707.26</td>\n",
       "    </tr>\n",
       "  </tbody>\n",
       "</table>\n",
       "</div>"
      ],
      "text/plain": [
       "                        open     high    close   volume\n",
       "time                                                   \n",
       "2021-02-15 13:00:00  1500.00  1607.27   596.40  1607.27\n",
       "2021-02-17 08:00:00  1800.00  1800.00  1800.00  1800.00\n",
       "2021-02-17 10:00:00  1600.00  1600.00   596.40   596.40\n",
       "2021-03-05 16:00:00  1562.22  1562.22  1562.22  1562.22\n",
       "2021-03-09 18:00:00  1746.28  1746.28  1746.28  1746.28\n",
       "2021-03-18 16:00:00  1746.28  1746.28  1746.28  1746.28\n",
       "2021-03-19 09:00:00  1748.00  1748.00  1748.00  1748.00\n",
       "2021-03-19 10:00:00  1748.00  1756.00  1748.00  1756.00\n",
       "2021-03-19 14:00:00  1806.33  1806.33  1806.33  1806.33\n",
       "2021-03-29 07:00:00  1806.33  1806.33  1746.28  1746.28\n",
       "2021-03-30 13:00:00  1750.00  1750.00  1750.00  1750.00\n",
       "2021-03-31 06:00:00  1746.28  1746.28  1746.28  1746.28\n",
       "2021-05-10 15:00:00  4100.00  4100.00  1746.28  1746.28\n",
       "2021-05-12 04:00:00  3452.00  3452.00  3452.00  3452.00\n",
       "2021-05-15 05:00:00  4400.38  4400.38  4400.38  4400.38\n",
       "2021-07-02 05:00:00  1746.28  1746.28  1746.28  1746.28\n",
       "2021-07-13 03:00:00  2100.00  2100.00  1746.28  1746.28\n",
       "2021-07-14 11:00:00  2100.00  2100.00  1746.28  1746.28\n",
       "2021-07-16 04:00:00  2100.00  2100.00  1746.28  1746.28\n",
       "2021-07-19 10:00:00  1837.40  1838.10  1833.20  1838.10\n",
       "2021-07-21 14:00:00  1838.10  1838.10  1838.10  1838.10\n",
       "2021-07-21 15:00:00  1832.50  1838.10  1831.80  1831.80\n",
       "2021-07-21 16:00:00  1838.10  2100.00  1562.22  1562.22\n",
       "2021-08-11 07:00:00  3545.60  3569.79  2918.90  3479.79\n",
       "2021-08-12 08:00:00  3261.98  3261.98  3261.98  3261.98\n",
       "2021-08-17 13:00:00  3418.00  3418.00  3418.00  3418.00\n",
       "2021-08-19 11:00:00  3418.00  3418.00  3418.00  3418.00\n",
       "2021-08-25 12:00:00  3418.00  3418.00  3204.11  3204.11\n",
       "2021-10-05 12:00:00  3466.36  3466.36  3466.36  3466.36\n",
       "2021-11-18 04:00:00  4404.11  4404.11  4404.11  4404.11\n",
       "2021-12-01 08:00:00  4073.42  4073.42  4073.42  4073.42\n",
       "2021-12-02 07:00:00  4073.42  4707.26  4073.42  4707.26"
      ]
     },
     "execution_count": 57,
     "metadata": {},
     "output_type": "execute_result"
    }
   ],
   "source": [
    "df.drop(columns=['omit','omit2'])"
   ]
  },
  {
   "cell_type": "code",
   "execution_count": 53,
   "metadata": {},
   "outputs": [],
   "source": [
    "df.set_index('time', inplace=True)"
   ]
  },
  {
   "cell_type": "code",
   "execution_count": 54,
   "metadata": {},
   "outputs": [
    {
     "name": "stdout",
     "output_type": "stream",
     "text": [
      "<class 'pandas.core.frame.DataFrame'>\n",
      "Int64Index: 32 entries, 1613394000000 to 1638428400000\n",
      "Data columns (total 6 columns):\n",
      " #   Column  Non-Null Count  Dtype  \n",
      "---  ------  --------------  -----  \n",
      " 0   open    32 non-null     float64\n",
      " 1   high    32 non-null     float64\n",
      " 2   close   32 non-null     float64\n",
      " 3   volume  32 non-null     float64\n",
      " 4   omit    32 non-null     float64\n",
      " 5   omit2   32 non-null     int64  \n",
      "dtypes: float64(5), int64(1)\n",
      "memory usage: 1.8 KB\n"
     ]
    }
   ],
   "source": [
    "df.info()"
   ]
  },
  {
   "cell_type": "code",
   "execution_count": 55,
   "metadata": {},
   "outputs": [],
   "source": [
    "df.index = pd.to_datetime(df.index, unit='ms')"
   ]
  },
  {
   "cell_type": "code",
   "execution_count": 58,
   "metadata": {},
   "outputs": [
    {
     "data": {
      "text/plain": [
       "<bound method NDFrame.head of                         open     high    close   volume     omit  omit2\n",
       "time                                                                   \n",
       "2021-02-15 13:00:00  1500.00  1607.27   596.40  1607.27     77.0     16\n",
       "2021-02-17 08:00:00  1800.00  1800.00  1800.00  1800.00    134.0      2\n",
       "2021-02-17 10:00:00  1600.00  1600.00   596.40   596.40     15.0      2\n",
       "2021-03-05 16:00:00  1562.22  1562.22  1562.22  1562.22     10.0      1\n",
       "2021-03-09 18:00:00  1746.28  1746.28  1746.28  1746.28     10.0      1\n",
       "2021-03-18 16:00:00  1746.28  1746.28  1746.28  1746.28      1.0      1\n",
       "2021-03-19 09:00:00  1748.00  1748.00  1748.00  1748.00     10.0      1\n",
       "2021-03-19 10:00:00  1748.00  1756.00  1748.00  1756.00     92.0     10\n",
       "2021-03-19 14:00:00  1806.33  1806.33  1806.33  1806.33      2.0      2\n",
       "2021-03-29 07:00:00  1806.33  1806.33  1746.28  1746.28    286.0     11\n",
       "2021-03-30 13:00:00  1750.00  1750.00  1750.00  1750.00     70.0      1\n",
       "2021-03-31 06:00:00  1746.28  1746.28  1746.28  1746.28      1.0      1\n",
       "2021-05-10 15:00:00  4100.00  4100.00  1746.28  1746.28      2.0      2\n",
       "2021-05-12 04:00:00  3452.00  3452.00  3452.00  3452.00      2.0      2\n",
       "2021-05-15 05:00:00  4400.38  4400.38  4400.38  4400.38     12.0      1\n",
       "2021-07-02 05:00:00  1746.28  1746.28  1746.28  1746.28     10.0      1\n",
       "2021-07-13 03:00:00  2100.00  2100.00  1746.28  1746.28      4.0      2\n",
       "2021-07-14 11:00:00  2100.00  2100.00  1746.28  1746.28      6.0      5\n",
       "2021-07-16 04:00:00  2100.00  2100.00  1746.28  1746.28      4.0      2\n",
       "2021-07-19 10:00:00  1837.40  1838.10  1833.20  1838.10      4.0      4\n",
       "2021-07-21 14:00:00  1838.10  1838.10  1838.10  1838.10      1.0      1\n",
       "2021-07-21 15:00:00  1832.50  1838.10  1831.80  1831.80      3.0      3\n",
       "2021-07-21 16:00:00  1838.10  2100.00  1562.22  1562.22  62562.0     29\n",
       "2021-08-11 07:00:00  3545.60  3569.79  2918.90  3479.79   3016.0    385\n",
       "2021-08-12 08:00:00  3261.98  3261.98  3261.98  3261.98     10.0      1\n",
       "2021-08-17 13:00:00  3418.00  3418.00  3418.00  3418.00      1.0      1\n",
       "2021-08-19 11:00:00  3418.00  3418.00  3418.00  3418.00      5.0      1\n",
       "2021-08-25 12:00:00  3418.00  3418.00  3204.11  3204.11      8.0      3\n",
       "2021-10-05 12:00:00  3466.36  3466.36  3466.36  3466.36      1.0      1\n",
       "2021-11-18 04:00:00  4404.11  4404.11  4404.11  4404.11     19.0      1\n",
       "2021-12-01 08:00:00  4073.42  4073.42  4073.42  4073.42     19.0      1\n",
       "2021-12-02 07:00:00  4073.42  4707.26  4073.42  4707.26   7580.0      4>"
      ]
     },
     "execution_count": 58,
     "metadata": {},
     "output_type": "execute_result"
    }
   ],
   "source": [
    "df.head"
   ]
  },
  {
   "cell_type": "code",
   "execution_count": 62,
   "metadata": {},
   "outputs": [],
   "source": [
    "df = df.drop(columns=['omit', 'omit2'])"
   ]
  },
  {
   "cell_type": "code",
   "execution_count": 63,
   "metadata": {},
   "outputs": [
    {
     "data": {
      "text/plain": [
       "4"
      ]
     },
     "execution_count": 63,
     "metadata": {},
     "output_type": "execute_result"
    }
   ],
   "source": [
    "len(df.columns)"
   ]
  },
  {
   "cell_type": "code",
   "execution_count": 72,
   "metadata": {},
   "outputs": [
    {
     "data": {
      "text/plain": [
       "<bound method NDFrame.head of                         open     high      low    close\n",
       "time                                                   \n",
       "2021-02-15 13:00:00  1500.00  1607.27   596.40  1607.27\n",
       "2021-02-17 08:00:00  1800.00  1800.00  1800.00  1800.00\n",
       "2021-02-17 10:00:00  1600.00  1600.00   596.40   596.40\n",
       "2021-03-05 16:00:00  1562.22  1562.22  1562.22  1562.22\n",
       "2021-03-09 18:00:00  1746.28  1746.28  1746.28  1746.28\n",
       "2021-03-18 16:00:00  1746.28  1746.28  1746.28  1746.28\n",
       "2021-03-19 09:00:00  1748.00  1748.00  1748.00  1748.00\n",
       "2021-03-19 10:00:00  1748.00  1756.00  1748.00  1756.00\n",
       "2021-03-19 14:00:00  1806.33  1806.33  1806.33  1806.33\n",
       "2021-03-29 07:00:00  1806.33  1806.33  1746.28  1746.28\n",
       "2021-03-30 13:00:00  1750.00  1750.00  1750.00  1750.00\n",
       "2021-03-31 06:00:00  1746.28  1746.28  1746.28  1746.28\n",
       "2021-05-10 15:00:00  4100.00  4100.00  1746.28  1746.28\n",
       "2021-05-12 04:00:00  3452.00  3452.00  3452.00  3452.00\n",
       "2021-05-15 05:00:00  4400.38  4400.38  4400.38  4400.38\n",
       "2021-07-02 05:00:00  1746.28  1746.28  1746.28  1746.28\n",
       "2021-07-13 03:00:00  2100.00  2100.00  1746.28  1746.28\n",
       "2021-07-14 11:00:00  2100.00  2100.00  1746.28  1746.28\n",
       "2021-07-16 04:00:00  2100.00  2100.00  1746.28  1746.28\n",
       "2021-07-19 10:00:00  1837.40  1838.10  1833.20  1838.10\n",
       "2021-07-21 14:00:00  1838.10  1838.10  1838.10  1838.10\n",
       "2021-07-21 15:00:00  1832.50  1838.10  1831.80  1831.80\n",
       "2021-07-21 16:00:00  1838.10  2100.00  1562.22  1562.22\n",
       "2021-08-11 07:00:00  3545.60  3569.79  2918.90  3479.79\n",
       "2021-08-12 08:00:00  3261.98  3261.98  3261.98  3261.98\n",
       "2021-08-17 13:00:00  3418.00  3418.00  3418.00  3418.00\n",
       "2021-08-19 11:00:00  3418.00  3418.00  3418.00  3418.00\n",
       "2021-08-25 12:00:00  3418.00  3418.00  3204.11  3204.11\n",
       "2021-10-05 12:00:00  3466.36  3466.36  3466.36  3466.36\n",
       "2021-11-18 04:00:00  4404.11  4404.11  4404.11  4404.11\n",
       "2021-12-01 08:00:00  4073.42  4073.42  4073.42  4073.42\n",
       "2021-12-02 07:00:00  4073.42  4707.26  4073.42  4707.26>"
      ]
     },
     "execution_count": 72,
     "metadata": {},
     "output_type": "execute_result"
    }
   ],
   "source": [
    "df = df.rename(columns={'close': 'low', 'volume': 'close'})\n",
    "df.head"
   ]
  },
  {
   "attachments": {},
   "cell_type": "markdown",
   "metadata": {},
   "source": [
    "# use Ta-lib"
   ]
  },
  {
   "attachments": {},
   "cell_type": "markdown",
   "metadata": {},
   "source": [
    "### ATR"
   ]
  },
  {
   "cell_type": "code",
   "execution_count": 74,
   "metadata": {},
   "outputs": [
    {
     "name": "stdout",
     "output_type": "stream",
     "text": [
      "time\n",
      "2021-02-15 13:00:00           NaN\n",
      "2021-02-17 08:00:00           NaN\n",
      "2021-02-17 10:00:00           NaN\n",
      "2021-03-05 16:00:00           NaN\n",
      "2021-03-09 18:00:00           NaN\n",
      "2021-03-18 16:00:00           NaN\n",
      "2021-03-19 09:00:00           NaN\n",
      "2021-03-19 10:00:00           NaN\n",
      "2021-03-19 14:00:00           NaN\n",
      "2021-03-29 07:00:00           NaN\n",
      "2021-03-30 13:00:00           NaN\n",
      "2021-03-31 06:00:00           NaN\n",
      "2021-05-10 15:00:00           NaN\n",
      "2021-05-12 04:00:00           NaN\n",
      "2021-05-15 05:00:00    548.683571\n",
      "2021-07-02 05:00:00    699.070459\n",
      "2021-07-13 03:00:00    674.402569\n",
      "2021-07-14 11:00:00    651.496671\n",
      "2021-07-16 04:00:00    630.226909\n",
      "2021-07-19 10:00:00    591.769273\n",
      "2021-07-21 14:00:00    549.500039\n",
      "2021-07-21 15:00:00    510.700036\n",
      "2021-07-21 16:00:00    512.634319\n",
      "2021-08-11 07:00:00    619.415439\n",
      "2021-08-12 08:00:00    590.729337\n",
      "2021-08-17 13:00:00    559.678670\n",
      "2021-08-19 11:00:00    519.701622\n",
      "2021-08-25 12:00:00    497.857935\n",
      "2021-10-05 12:00:00    481.028796\n",
      "2021-11-18 04:00:00    513.651740\n",
      "2021-12-01 08:00:00    500.583044\n",
      "2021-12-02 07:00:00    510.101398\n",
      "dtype: float64\n"
     ]
    }
   ],
   "source": [
    "atr14 = talib.ATR( df['high'], df['low'], df['close'], 14)\n",
    "print(atr14)"
   ]
  },
  {
   "attachments": {},
   "cell_type": "markdown",
   "metadata": {},
   "source": [
    "# Abstract function"
   ]
  },
  {
   "attachments": {},
   "cell_type": "markdown",
   "metadata": {},
   "source": [
    "### ema20"
   ]
  },
  {
   "cell_type": "code",
   "execution_count": 75,
   "metadata": {},
   "outputs": [],
   "source": [
    "from talib import abstract\n",
    "SMA = abstract.SMA"
   ]
  },
  {
   "cell_type": "code",
   "execution_count": 76,
   "metadata": {},
   "outputs": [],
   "source": [
    "inputs = {\n",
    "    'open': np.random.random(100),\n",
    "    'high': np.random.random(100),\n",
    "    'low': np.random.random(100),\n",
    "    'close': np.random.random(100),\n",
    "    'volume': np.random.random(100)\n",
    "}\n"
   ]
  },
  {
   "cell_type": "code",
   "execution_count": 77,
   "metadata": {},
   "outputs": [],
   "source": [
    "output = SMA(inputs, timeperiod= 25)"
   ]
  },
  {
   "cell_type": "code",
   "execution_count": 80,
   "metadata": {},
   "outputs": [],
   "source": [
    "df = pd.DataFrame(inputs)"
   ]
  },
  {
   "cell_type": "code",
   "execution_count": 78,
   "metadata": {},
   "outputs": [
    {
     "name": "stdout",
     "output_type": "stream",
     "text": [
      "[       nan        nan        nan        nan        nan        nan\n",
      "        nan        nan        nan        nan        nan        nan\n",
      "        nan        nan        nan        nan        nan        nan\n",
      "        nan        nan        nan        nan        nan        nan\n",
      " 0.49347671 0.48837552 0.46643485 0.49028091 0.50125504 0.49446794\n",
      " 0.47975839 0.50963589 0.48001441 0.47425273 0.47248406 0.48678154\n",
      " 0.50008383 0.48617389 0.50489797 0.50315427 0.51367636 0.51579274\n",
      " 0.50869197 0.50675572 0.48154565 0.48797909 0.46531365 0.45478552\n",
      " 0.48239609 0.48026083 0.48995593 0.51497537 0.48822355 0.49536117\n",
      " 0.50592229 0.48261834 0.48463882 0.50638018 0.50089041 0.48138593\n",
      " 0.47473061 0.44822239 0.46598932 0.46655259 0.46007888 0.4620865\n",
      " 0.47386201 0.45211953 0.46462501 0.48552459 0.46227196 0.46274218\n",
      " 0.44848849 0.42212637 0.43793997 0.44527096 0.44115776 0.4649418\n",
      " 0.4525747  0.45769902 0.47113964 0.46450958 0.4639095  0.47585143\n",
      " 0.50036561 0.52765049 0.53351042 0.53830638 0.53357835 0.53800087\n",
      " 0.56358601 0.55495167 0.56609256 0.58675691 0.56185086 0.55462039\n",
      " 0.56723882 0.58013066 0.58201673 0.58286306]\n"
     ]
    }
   ],
   "source": [
    "print(output)"
   ]
  },
  {
   "attachments": {},
   "cell_type": "markdown",
   "metadata": {},
   "source": [
    "# Streaming API"
   ]
  },
  {
   "cell_type": "code",
   "execution_count": null,
   "metadata": {},
   "outputs": [],
   "source": [
    "import talib\n",
    "from talib import stream\n",
    "\n",
    "close = np.random.random(100)\n",
    "\n",
    "# the Function API\n",
    "output = talib.SMA(close)\n",
    "\n",
    "# the Streaming API\n",
    "latest = stream.SMA(close)\n",
    "\n",
    "# the latest value is the same as the last output value\n",
    "assert (output[-1] - latest) < 0.00001"
   ]
  }
 ],
 "metadata": {
  "kernelspec": {
   "display_name": "base",
   "language": "python",
   "name": "python3"
  },
  "language_info": {
   "codemirror_mode": {
    "name": "ipython",
    "version": 3
   },
   "file_extension": ".py",
   "mimetype": "text/x-python",
   "name": "python",
   "nbconvert_exporter": "python",
   "pygments_lexer": "ipython3",
   "version": "3.9.13"
  },
  "orig_nbformat": 4,
  "vscode": {
   "interpreter": {
    "hash": "ad2bdc8ecc057115af97d19610ffacc2b4e99fae6737bb82f5d7fb13d2f2c186"
   }
  }
 },
 "nbformat": 4,
 "nbformat_minor": 2
}
