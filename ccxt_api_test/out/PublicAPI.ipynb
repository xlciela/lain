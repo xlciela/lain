{
 "cells": [
  {
   "attachments": {},
   "cell_type": "markdown",
   "metadata": {},
   "source": [
    "# public API"
   ]
  },
  {
   "attachments": {},
   "cell_type": "markdown",
   "metadata": {},
   "source": [
    "### instantiation of exchange"
   ]
  },
  {
   "cell_type": "code",
   "execution_count": 1,
   "metadata": {},
   "outputs": [],
   "source": [
    "import pandas as pd\n",
    "import numpy as np\n",
    "import ccxt"
   ]
  },
  {
   "cell_type": "code",
   "execution_count": 2,
   "metadata": {},
   "outputs": [],
   "source": [
    "exchange = ccxt.binanceusdm({\n",
    "\t'apiKey': '296015e94a672f83bfb4076908741a255cd5c9f192da047d12eb63cff4c73a7e',\n",
    "\t'secret': '4ecd9157f7b1a8486742374e9627d4ae4cfca3b997d1532ef447dc915fad62f5',\n",
    "})\n",
    "# turn on testnet\n",
    "# hasattr(exchange, 'set_sandbox_mode')\n",
    "exchange.set_sandbox_mode(True)\n"
   ]
  },
  {
   "cell_type": "code",
   "execution_count": 4,
   "metadata": {},
   "outputs": [
    {
     "data": {
      "text/plain": [
       "{'1s': '1s',\n",
       " '1m': '1m',\n",
       " '3m': '3m',\n",
       " '5m': '5m',\n",
       " '15m': '15m',\n",
       " '30m': '30m',\n",
       " '1h': '1h',\n",
       " '2h': '2h',\n",
       " '4h': '4h',\n",
       " '6h': '6h',\n",
       " '8h': '8h',\n",
       " '12h': '12h',\n",
       " '1d': '1d',\n",
       " '3d': '3d',\n",
       " '1w': '1w',\n",
       " '1M': '1M'}"
      ]
     },
     "execution_count": 4,
     "metadata": {},
     "output_type": "execute_result"
    }
   ],
   "source": [
    "exchange.timeframes"
   ]
  },
  {
   "cell_type": "code",
   "execution_count": null,
   "metadata": {},
   "outputs": [],
   "source": [
    "exchange.fetch_ticker(symbol='ETHUSDT')"
   ]
  },
  {
   "cell_type": "code",
   "execution_count": 5,
   "metadata": {},
   "outputs": [],
   "source": [
    "df = pd.DataFrame(exchange.fetch_ohlcv(symbol='ETHUSDT', timeframe='2h', limit= 1000))"
   ]
  },
  {
   "cell_type": "code",
   "execution_count": 6,
   "metadata": {},
   "outputs": [
    {
     "data": {
      "text/html": [
       "<div>\n",
       "<style scoped>\n",
       "    .dataframe tbody tr th:only-of-type {\n",
       "        vertical-align: middle;\n",
       "    }\n",
       "\n",
       "    .dataframe tbody tr th {\n",
       "        vertical-align: top;\n",
       "    }\n",
       "\n",
       "    .dataframe thead th {\n",
       "        text-align: right;\n",
       "    }\n",
       "</style>\n",
       "<table border=\"1\" class=\"dataframe\">\n",
       "  <thead>\n",
       "    <tr style=\"text-align: right;\">\n",
       "      <th></th>\n",
       "      <th>0</th>\n",
       "      <th>1</th>\n",
       "      <th>2</th>\n",
       "      <th>3</th>\n",
       "      <th>4</th>\n",
       "      <th>5</th>\n",
       "    </tr>\n",
       "  </thead>\n",
       "  <tbody>\n",
       "    <tr>\n",
       "      <th>count</th>\n",
       "      <td>1.000000e+03</td>\n",
       "      <td>1000.000000</td>\n",
       "      <td>1000.00000</td>\n",
       "      <td>1000.000000</td>\n",
       "      <td>1000.000000</td>\n",
       "      <td>1000.000000</td>\n",
       "    </tr>\n",
       "    <tr>\n",
       "      <th>mean</th>\n",
       "      <td>1.675595e+12</td>\n",
       "      <td>1524.960530</td>\n",
       "      <td>1541.62567</td>\n",
       "      <td>1509.454470</td>\n",
       "      <td>1525.537740</td>\n",
       "      <td>25637.946853</td>\n",
       "    </tr>\n",
       "    <tr>\n",
       "      <th>std</th>\n",
       "      <td>2.079500e+09</td>\n",
       "      <td>160.611278</td>\n",
       "      <td>166.24499</td>\n",
       "      <td>157.412678</td>\n",
       "      <td>160.543546</td>\n",
       "      <td>16020.788489</td>\n",
       "    </tr>\n",
       "    <tr>\n",
       "      <th>min</th>\n",
       "      <td>1.671998e+12</td>\n",
       "      <td>1187.270000</td>\n",
       "      <td>1191.58000</td>\n",
       "      <td>1165.000000</td>\n",
       "      <td>1187.290000</td>\n",
       "      <td>3929.882000</td>\n",
       "    </tr>\n",
       "    <tr>\n",
       "      <th>25%</th>\n",
       "      <td>1.673797e+12</td>\n",
       "      <td>1448.977500</td>\n",
       "      <td>1471.66000</td>\n",
       "      <td>1428.190000</td>\n",
       "      <td>1450.262500</td>\n",
       "      <td>15306.446000</td>\n",
       "    </tr>\n",
       "    <tr>\n",
       "      <th>50%</th>\n",
       "      <td>1.675595e+12</td>\n",
       "      <td>1574.295000</td>\n",
       "      <td>1590.07500</td>\n",
       "      <td>1560.000000</td>\n",
       "      <td>1574.775000</td>\n",
       "      <td>21465.512500</td>\n",
       "    </tr>\n",
       "    <tr>\n",
       "      <th>75%</th>\n",
       "      <td>1.677393e+12</td>\n",
       "      <td>1641.755000</td>\n",
       "      <td>1660.00000</td>\n",
       "      <td>1626.777500</td>\n",
       "      <td>1641.655000</td>\n",
       "      <td>30831.360750</td>\n",
       "    </tr>\n",
       "    <tr>\n",
       "      <th>max</th>\n",
       "      <td>1.679191e+12</td>\n",
       "      <td>1792.000000</td>\n",
       "      <td>1817.87000</td>\n",
       "      <td>1770.010000</td>\n",
       "      <td>1792.780000</td>\n",
       "      <td>153886.347000</td>\n",
       "    </tr>\n",
       "  </tbody>\n",
       "</table>\n",
       "</div>"
      ],
      "text/plain": [
       "                  0            1           2            3            4  \\\n",
       "count  1.000000e+03  1000.000000  1000.00000  1000.000000  1000.000000   \n",
       "mean   1.675595e+12  1524.960530  1541.62567  1509.454470  1525.537740   \n",
       "std    2.079500e+09   160.611278   166.24499   157.412678   160.543546   \n",
       "min    1.671998e+12  1187.270000  1191.58000  1165.000000  1187.290000   \n",
       "25%    1.673797e+12  1448.977500  1471.66000  1428.190000  1450.262500   \n",
       "50%    1.675595e+12  1574.295000  1590.07500  1560.000000  1574.775000   \n",
       "75%    1.677393e+12  1641.755000  1660.00000  1626.777500  1641.655000   \n",
       "max    1.679191e+12  1792.000000  1817.87000  1770.010000  1792.780000   \n",
       "\n",
       "                   5  \n",
       "count    1000.000000  \n",
       "mean    25637.946853  \n",
       "std     16020.788489  \n",
       "min      3929.882000  \n",
       "25%     15306.446000  \n",
       "50%     21465.512500  \n",
       "75%     30831.360750  \n",
       "max    153886.347000  "
      ]
     },
     "execution_count": 6,
     "metadata": {},
     "output_type": "execute_result"
    }
   ],
   "source": [
    "df.describe()"
   ]
  },
  {
   "attachments": {},
   "cell_type": "markdown",
   "metadata": {},
   "source": [
    "### get data && clean data"
   ]
  },
  {
   "cell_type": "code",
   "execution_count": 10,
   "metadata": {},
   "outputs": [
    {
     "data": {
      "text/plain": [
       "0.05"
      ]
     },
     "execution_count": 10,
     "metadata": {},
     "output_type": "execute_result"
    }
   ],
   "source": [
    "exchange.rateLimit/1000"
   ]
  },
  {
   "cell_type": "code",
   "execution_count": 3,
   "metadata": {},
   "outputs": [],
   "source": [
    "import time\n",
    "\n",
    "\n",
    "def get_history(symbol, interval, start= None, limit = 1000):\n",
    "\tif start:\n",
    "\t\tstart = exchange.parse8601(start)\n",
    "\n",
    "\tdata = exchange.fetch_ohlcv(symbol=symbol, timeframe=interval, since=start, limit=limit) \n",
    "\tlastBarActual = data[-1][0] # timestamp of last loaded bar\n",
    "\t# timestamp of current bar\n",
    "\tlastBarCurrent = exchange.fetch_ohlcv(symbol=symbol, timeframe=interval, limit=1)[-1][0]\n",
    "\t# if lastBarActual != lastBarCurrent => pull the next 1000 bars\n",
    "\twhile lastBarActual != lastBarCurrent:\n",
    "\t\ttime.sleep(0.1)\n",
    "\t\tdata += exchange.fetch_ohlcv(symbol=symbol, timeframe=interval, since=lastBarActual, limit=limit)[1:]\n",
    "\t\tlastBarActual = data[-1][0]\n",
    "\t\tlastBarCurrent = exchange.fetch_ohlcv(symbol=symbol, timeframe=interval, limit=1)[-1][0]\n",
    "\n",
    "\tdf = pd.DataFrame(data)\n",
    "\tdf.columns = ['Date', 'Open', 'High', 'Low', 'Close', 'Volume']\n",
    "\tdf.Date= pd.to_datetime(df.Date, unit='ms')\n",
    "\tdf.set_index('Date', inplace=True)\n",
    "\t\n",
    "\treturn df"
   ]
  },
  {
   "cell_type": "code",
   "execution_count": 15,
   "metadata": {},
   "outputs": [
    {
     "data": {
      "text/plain": [
       "<bound method DataFrame.info of                         Open     High      Low    Close     Volume\n",
       "Date                                                              \n",
       "2022-01-01 00:00:00  3677.60  3747.39  3677.26  3725.91  17634.510\n",
       "2022-01-01 02:00:00  3725.66  3747.37  3356.65  3723.91  12856.258\n",
       "2022-01-01 04:00:00  3723.92  3763.38  3703.69  3736.80  15003.712\n",
       "2022-01-01 06:00:00  3736.78  3742.47  3703.99  3716.73   8329.390\n",
       "2022-01-01 08:00:00  3716.70  3732.58  3710.06  3712.75   4715.746\n",
       "...                      ...      ...      ...      ...        ...\n",
       "2023-03-18 20:00:00  1713.59  1729.00  1682.00  1682.00   7056.861\n",
       "2023-03-18 22:00:00  1689.31  1729.00  1676.00  1705.46  11071.876\n",
       "2023-03-19 00:00:00  1705.46  1785.00  1700.00  1777.53  46849.343\n",
       "2023-03-19 02:00:00  1777.72  1785.00  1725.00  1771.59  14155.651\n",
       "2023-03-19 04:00:00  1763.19  1776.38  1762.13  1762.13    955.794\n",
       "\n",
       "[5307 rows x 5 columns]>"
      ]
     },
     "execution_count": 15,
     "metadata": {},
     "output_type": "execute_result"
    }
   ],
   "source": [
    "start = \"2022-01-01 00:00:00\"\n",
    "# since start but max 1000 bars\n",
    "df = get_history('ETHUSDT', '2h', start=start, limit=1000)\n",
    "df.info"
   ]
  },
  {
   "cell_type": "code",
   "execution_count": 18,
   "metadata": {},
   "outputs": [
    {
     "data": {
      "text/plain": [
       "True"
      ]
     },
     "execution_count": 18,
     "metadata": {},
     "output_type": "execute_result"
    }
   ],
   "source": [
    "df.index.is_unique"
   ]
  },
  {
   "attachments": {},
   "cell_type": "markdown",
   "metadata": {},
   "source": [
    "## streaming data"
   ]
  },
  {
   "cell_type": "code",
   "execution_count": 20,
   "metadata": {},
   "outputs": [
    {
     "name": "stdout",
     "output_type": "stream",
     "text": [
      "[[1679198400000, 1763.19, 1777.46, 1761.08, 1776.72, 1478.979]]\n",
      "[[1679198400000, 1763.19, 1777.46, 1761.08, 1777.46, 1479.73]]\n",
      "[[1679198400000, 1763.19, 1777.46, 1761.08, 1777.46, 1479.73]]\n",
      "[[1679198400000, 1763.19, 1777.46, 1761.08, 1777.46, 1479.73]]\n",
      "[[1679198400000, 1763.19, 1777.46, 1761.08, 1777.46, 1479.73]]\n",
      "[[1679198400000, 1763.19, 1777.46, 1761.08, 1777.46, 1479.73]]\n",
      "[[1679198400000, 1763.19, 1777.46, 1761.08, 1777.46, 1479.73]]\n",
      "[[1679198400000, 1763.19, 1777.46, 1761.08, 1777.46, 1479.73]]\n",
      "[[1679198400000, 1763.19, 1777.46, 1761.08, 1777.46, 1480.045]]\n",
      "[[1679198400000, 1763.19, 1777.46, 1761.08, 1777.46, 1480.045]]\n"
     ]
    }
   ],
   "source": [
    "# basic idea to streaming klines with no requirement for low latency\n",
    "for i in range(10):\n",
    "    data = exchange.fetch_ohlcv(symbol='ETHUSDT', timeframe='2h', limit= 1)\n",
    "    print(data)\n",
    "    time.sleep(1)"
   ]
  },
  {
   "cell_type": "code",
   "execution_count": 20,
   "metadata": {},
   "outputs": [],
   "source": [
    "def start_klines(callback, symbol, interval):\n",
    "\tglobal running # global variable to control the loop externally\n",
    "\trunning = True\n",
    " \n",
    "\twhile running == True:\n",
    "\t\tres = exchange.fetch_ohlcv(symbol=symbol, timeframe=interval, limit= 1)\n",
    "\t\tif len(res) == 0:\n",
    "\t\t\tprint('no data')\n",
    "\t\telse:\n",
    "\t\t\tcallback(res)\n",
    "\t\ttime.sleep(1)"
   ]
  },
  {
   "cell_type": "code",
   "execution_count": 13,
   "metadata": {},
   "outputs": [
    {
     "data": {
      "text/html": [
       "<div>\n",
       "<style scoped>\n",
       "    .dataframe tbody tr th:only-of-type {\n",
       "        vertical-align: middle;\n",
       "    }\n",
       "\n",
       "    .dataframe tbody tr th {\n",
       "        vertical-align: top;\n",
       "    }\n",
       "\n",
       "    .dataframe thead th {\n",
       "        text-align: right;\n",
       "    }\n",
       "</style>\n",
       "<table border=\"1\" class=\"dataframe\">\n",
       "  <thead>\n",
       "    <tr style=\"text-align: right;\">\n",
       "      <th></th>\n",
       "      <th>Open</th>\n",
       "      <th>High</th>\n",
       "      <th>Low</th>\n",
       "      <th>Close</th>\n",
       "      <th>Volume</th>\n",
       "    </tr>\n",
       "  </thead>\n",
       "  <tbody>\n",
       "  </tbody>\n",
       "</table>\n",
       "</div>"
      ],
      "text/plain": [
       "Empty DataFrame\n",
       "Columns: [Open, High, Low, Close, Volume]\n",
       "Index: []"
      ]
     },
     "execution_count": 13,
     "metadata": {},
     "output_type": "execute_result"
    }
   ],
   "source": [
    "df = pd.DataFrame(columns= [\"Open\", \"High\", \"Low\", \"Close\", \"Volume\"])\n",
    "df"
   ]
  },
  {
   "cell_type": "code",
   "execution_count": 24,
   "metadata": {},
   "outputs": [],
   "source": [
    "def stream_candles(res):\n",
    "    # define how to process the data\n",
    "\n",
    "    # extract data from res\n",
    "    start_time = pd.to_datetime(res[0][0], unit='ms') # res:[[1679198400000, 1763.19, 1777.46, 1761.08, 1776.72, 1478.979]]\n",
    "    first = res[0][1]\n",
    "    high = res[0][2]\n",
    "    low = res[0][3]\n",
    "    close = res[0][4]\n",
    "    volume = res[0][5]\n",
    "\n",
    "    # feed the df\n",
    "    df.loc[start_time] = [first, high, low, close, volume]\n",
    "\n",
    "    # print sth\n",
    "    print(\".\", end = \"\", flush = True)"
   ]
  },
  {
   "cell_type": "code",
   "execution_count": 6,
   "metadata": {},
   "outputs": [],
   "source": [
    "def stop_stream():\n",
    "\tglobal running\n",
    "\trunning = False"
   ]
  },
  {
   "attachments": {},
   "cell_type": "markdown",
   "metadata": {},
   "source": [
    "### multithreading"
   ]
  },
  {
   "cell_type": "code",
   "execution_count": 8,
   "metadata": {},
   "outputs": [],
   "source": [
    "from threading import Thread"
   ]
  },
  {
   "cell_type": "code",
   "execution_count": 25,
   "metadata": {},
   "outputs": [
    {
     "data": {
      "text/plain": [
       "<Thread(Thread-6, initial)>"
      ]
     },
     "execution_count": 25,
     "metadata": {},
     "output_type": "execute_result"
    }
   ],
   "source": [
    "thread = Thread(target=start_klines, args=(stream_candles, 'ETHUSDT', '1m'))\n",
    "thread"
   ]
  },
  {
   "cell_type": "code",
   "execution_count": 26,
   "metadata": {},
   "outputs": [
    {
     "name": "stdout",
     "output_type": "stream",
     "text": [
      "...................."
     ]
    }
   ],
   "source": [
    "thread.start()"
   ]
  },
  {
   "cell_type": "code",
   "execution_count": 27,
   "metadata": {},
   "outputs": [],
   "source": [
    "stop_stream()"
   ]
  },
  {
   "cell_type": "code",
   "execution_count": 15,
   "metadata": {},
   "outputs": [
    {
     "data": {
      "text/plain": [
       "<Thread(Thread-4, initial)>"
      ]
     },
     "execution_count": 15,
     "metadata": {},
     "output_type": "execute_result"
    }
   ],
   "source": [
    "thread"
   ]
  },
  {
   "cell_type": "code",
   "execution_count": 16,
   "metadata": {},
   "outputs": [
    {
     "name": "stdout",
     "output_type": "stream",
     "text": [
      "[[1679293020000, 1749.95, 1751.0, 1749.95, 1751.0, 36.759]]\n",
      "[[1679293020000, 1749.95, 1751.0, 1749.95, 1749.95, 36.988]]\n",
      "[[1679293020000, 1749.95, 1751.0, 1749.95, 1749.95, 36.988]]\n",
      "[[1679293020000, 1749.95, 1751.0, 1749.95, 1749.95, 36.988]]\n",
      "[[1679293020000, 1749.95, 1751.0, 1749.95, 1749.95, 36.988]]\n",
      "[[1679293020000, 1749.95, 1751.0, 1749.95, 1749.95, 36.988]]\n",
      "[[1679293020000, 1749.95, 1751.0, 1749.95, 1751.0, 37.217]]\n"
     ]
    }
   ],
   "source": [
    "thread.start()"
   ]
  },
  {
   "cell_type": "code",
   "execution_count": 17,
   "metadata": {},
   "outputs": [
    {
     "name": "stdout",
     "output_type": "stream",
     "text": [
      "[[1679293080000, 1751.0, 1751.0, 1749.95, 1749.95, 57.732]]\n"
     ]
    }
   ],
   "source": [
    "stop_stream()"
   ]
  },
  {
   "cell_type": "code",
   "execution_count": 28,
   "metadata": {},
   "outputs": [
    {
     "data": {
      "text/html": [
       "<div>\n",
       "<style scoped>\n",
       "    .dataframe tbody tr th:only-of-type {\n",
       "        vertical-align: middle;\n",
       "    }\n",
       "\n",
       "    .dataframe tbody tr th {\n",
       "        vertical-align: top;\n",
       "    }\n",
       "\n",
       "    .dataframe thead th {\n",
       "        text-align: right;\n",
       "    }\n",
       "</style>\n",
       "<table border=\"1\" class=\"dataframe\">\n",
       "  <thead>\n",
       "    <tr style=\"text-align: right;\">\n",
       "      <th></th>\n",
       "      <th>Open</th>\n",
       "      <th>High</th>\n",
       "      <th>Low</th>\n",
       "      <th>Close</th>\n",
       "      <th>Volume</th>\n",
       "    </tr>\n",
       "  </thead>\n",
       "  <tbody>\n",
       "    <tr>\n",
       "      <th>2023-03-20 06:19:00</th>\n",
       "      <td>1751.0</td>\n",
       "      <td>1751.0</td>\n",
       "      <td>1749.95</td>\n",
       "      <td>1750.98</td>\n",
       "      <td>95.629</td>\n",
       "    </tr>\n",
       "    <tr>\n",
       "      <th>2023-03-20 06:20:00</th>\n",
       "      <td>1751.0</td>\n",
       "      <td>1751.0</td>\n",
       "      <td>1750.98</td>\n",
       "      <td>1750.98</td>\n",
       "      <td>1.775</td>\n",
       "    </tr>\n",
       "  </tbody>\n",
       "</table>\n",
       "</div>"
      ],
      "text/plain": [
       "                       Open    High      Low    Close  Volume\n",
       "2023-03-20 06:19:00  1751.0  1751.0  1749.95  1750.98  95.629\n",
       "2023-03-20 06:20:00  1751.0  1751.0  1750.98  1750.98   1.775"
      ]
     },
     "execution_count": 28,
     "metadata": {},
     "output_type": "execute_result"
    }
   ],
   "source": [
    "df"
   ]
  },
  {
   "cell_type": "code",
   "execution_count": null,
   "metadata": {},
   "outputs": [],
   "source": []
  }
 ],
 "metadata": {
  "kernelspec": {
   "display_name": "base",
   "language": "python",
   "name": "python3"
  },
  "language_info": {
   "codemirror_mode": {
    "name": "ipython",
    "version": 3
   },
   "file_extension": ".py",
   "mimetype": "text/x-python",
   "name": "python",
   "nbconvert_exporter": "python",
   "pygments_lexer": "ipython3",
   "version": "3.9.13"
  },
  "orig_nbformat": 4,
  "vscode": {
   "interpreter": {
    "hash": "ad2bdc8ecc057115af97d19610ffacc2b4e99fae6737bb82f5d7fb13d2f2c186"
   }
  }
 },
 "nbformat": 4,
 "nbformat_minor": 2
}
