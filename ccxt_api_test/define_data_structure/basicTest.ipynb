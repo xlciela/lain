{
 "cells": [
  {
   "cell_type": "code",
   "execution_count": 50,
   "metadata": {},
   "outputs": [],
   "source": [
    "import ccxt\n",
    "import pandas as pd"
   ]
  },
  {
   "cell_type": "code",
   "execution_count": 51,
   "metadata": {},
   "outputs": [],
   "source": [
    "import numpy as np"
   ]
  },
  {
   "cell_type": "code",
   "execution_count": 52,
   "metadata": {},
   "outputs": [
    {
     "name": "stdout",
     "output_type": "stream",
     "text": [
      "['ace', 'alpaca', 'ascendex', 'bequant', 'bigone', 'binance', 'binancecoinm', 'binanceus', 'binanceusdm', 'bit2c', 'bitbank', 'bitbay', 'bitbns', 'bitcoincom', 'bitfinex', 'bitfinex2', 'bitflyer', 'bitforex', 'bitget', 'bithumb', 'bitmart', 'bitmex', 'bitopro', 'bitpanda', 'bitrue', 'bitso', 'bitstamp', 'bitstamp1', 'bittrex', 'bitvavo', 'bkex', 'bl3p', 'blockchaincom', 'btcalpha', 'btcbox', 'btcex', 'btcmarkets', 'btctradeua', 'btcturk', 'buda', 'bybit', 'cex', 'coinbase', 'coinbaseprime', 'coinbasepro', 'coincheck', 'coinex', 'coinfalcon', 'coinmate', 'coinone', 'coinspot', 'cryptocom', 'currencycom', 'delta', 'deribit', 'digifinex', 'exmo', 'flowbtc', 'fmfwio', 'gate', 'gateio', 'gemini', 'hitbtc', 'hitbtc3', 'hollaex', 'huobi', 'huobijp', 'huobipro', 'idex', 'independentreserve', 'indodax', 'itbit', 'kraken', 'krakenfutures', 'kucoin', 'kucoinfutures', 'kuna', 'latoken', 'lbank', 'lbank2', 'luno', 'lykke', 'mercado', 'mexc', 'mexc3', 'ndax', 'novadax', 'oceanex', 'okcoin', 'okex', 'okex5', 'okx', 'paymium', 'phemex', 'poloniex', 'poloniexfutures', 'probit', 'ripio', 'stex', 'tidex', 'timex', 'tokocrypto', 'upbit', 'wavesexchange', 'wazirx', 'whitebit', 'woo', 'yobit', 'zaif', 'zb', 'zonda']\n"
     ]
    }
   ],
   "source": [
    "print(ccxt.exchanges)"
   ]
  },
  {
   "cell_type": "code",
   "execution_count": 53,
   "metadata": {},
   "outputs": [
    {
     "name": "stdout",
     "output_type": "stream",
     "text": [
      "<class 'ccxt.binancecoinm.binancecoinm'>\n"
     ]
    }
   ],
   "source": [
    "exchangeName = 'binancecoinm'\n",
    "exchange_class = getattr(ccxt, exchangeName)\n",
    "print(exchange_class)"
   ]
  },
  {
   "cell_type": "code",
   "execution_count": 54,
   "metadata": {},
   "outputs": [
    {
     "name": "stdout",
     "output_type": "stream",
     "text": [
      "<class 'ccxt.binancecoinm.binancecoinm'>\n"
     ]
    }
   ],
   "source": [
    "# ccxt.binancecoinm <=> getattr(ccxt, \"ccxt.binancecoinm\")\n",
    "print(ccxt.binancecoinm)"
   ]
  },
  {
   "cell_type": "code",
   "execution_count": 55,
   "metadata": {},
   "outputs": [],
   "source": [
    "# instantiation of my exchange\n",
    "exchange = exchange_class({\n",
    "\t'apiKey': '296015e94a672f83bfb4076908741a255cd5c9f192da047d12eb63cff4c73a7e',\n",
    "\t'secret': '4ecd9157f7b1a8486742374e9627d4ae4cfca3b997d1532ef447dc915fad62f5',\n",
    "})\n"
   ]
  },
  {
   "cell_type": "code",
   "execution_count": 56,
   "metadata": {},
   "outputs": [],
   "source": [
    "hasattr(exchange, 'set_sandbox_mode')\n",
    "exchange.set_sandbox_mode(True)"
   ]
  },
  {
   "attachments": {},
   "cell_type": "markdown",
   "metadata": {},
   "source": [
    "# # check exchange structure"
   ]
  },
  {
   "cell_type": "code",
   "execution_count": 57,
   "metadata": {},
   "outputs": [
    {
     "name": "stdout",
     "output_type": "stream",
     "text": [
      "{'logo': 'https://user-images.githubusercontent.com/1294454/117738721-668c8d80-b205-11eb-8c49-3fad84c4a07f.jpg', 'test': {'dapiPublic': 'https://testnet.binancefuture.com/dapi/v1', 'dapiPrivate': 'https://testnet.binancefuture.com/dapi/v1', 'dapiPrivateV2': 'https://testnet.binancefuture.com/dapi/v2', 'fapiPublic': 'https://testnet.binancefuture.com/fapi/v1', 'fapiPrivate': 'https://testnet.binancefuture.com/fapi/v1', 'fapiPrivateV2': 'https://testnet.binancefuture.com/fapi/v2', 'public': 'https://testnet.binance.vision/api/v3', 'private': 'https://testnet.binance.vision/api/v3', 'v1': 'https://testnet.binance.vision/api/v1'}, 'api': {'dapiPublic': 'https://testnet.binancefuture.com/dapi/v1', 'dapiPrivate': 'https://testnet.binancefuture.com/dapi/v1', 'dapiPrivateV2': 'https://testnet.binancefuture.com/dapi/v2', 'fapiPublic': 'https://testnet.binancefuture.com/fapi/v1', 'fapiPrivate': 'https://testnet.binancefuture.com/fapi/v1', 'fapiPrivateV2': 'https://testnet.binancefuture.com/fapi/v2', 'public': 'https://testnet.binance.vision/api/v3', 'private': 'https://testnet.binance.vision/api/v3', 'v1': 'https://testnet.binance.vision/api/v1'}, 'www': 'https://www.binance.com', 'referral': {'url': 'https://accounts.binance.com/en/register?ref=D7YA7CLY', 'discount': 0.1}, 'doc': ['https://binance-docs.github.io/apidocs/delivery/en/', 'https://binance-docs.github.io/apidocs/spot/en'], 'api_management': 'https://www.binance.com/en/usercenter/settings/api-management', 'fees': 'https://www.binance.com/en/fee/schedule', 'apiBackup': {'wapi': 'https://api.binance.com/wapi/v3', 'sapi': 'https://api.binance.com/sapi/v1', 'sapiV2': 'https://api.binance.com/sapi/v2', 'sapiV3': 'https://api.binance.com/sapi/v3', 'sapiV4': 'https://api.binance.com/sapi/v4', 'dapiPublic': 'https://dapi.binance.com/dapi/v1', 'dapiPrivate': 'https://dapi.binance.com/dapi/v1', 'eapiPublic': 'https://eapi.binance.com/eapi/v1', 'eapiPrivate': 'https://eapi.binance.com/eapi/v1', 'dapiPrivateV2': 'https://dapi.binance.com/dapi/v2', 'dapiData': 'https://dapi.binance.com/futures/data', 'fapiPublic': 'https://fapi.binance.com/fapi/v1', 'fapiPrivate': 'https://fapi.binance.com/fapi/v1', 'fapiData': 'https://fapi.binance.com/futures/data', 'fapiPrivateV2': 'https://fapi.binance.com/fapi/v2', 'public': 'https://api.binance.com/api/v3', 'private': 'https://api.binance.com/api/v3', 'v1': 'https://api.binance.com/api/v1'}}\n"
     ]
    }
   ],
   "source": [
    "print(exchange.urls)"
   ]
  },
  {
   "cell_type": "code",
   "execution_count": 58,
   "metadata": {},
   "outputs": [
    {
     "name": "stdout",
     "output_type": "stream",
     "text": [
      "{'publicAPI': True, 'privateAPI': True, 'CORS': None, 'spot': False, 'margin': False, 'swap': True, 'future': True, 'option': None, 'addMargin': True, 'cancelAllOrders': True, 'cancelOrder': True, 'cancelOrders': None, 'createDepositAddress': False, 'createLimitOrder': True, 'createMarketOrder': True, 'createOrder': True, 'createPostOnlyOrder': True, 'createReduceOnlyOrder': True, 'createStopOrder': True, 'createStopLimitOrder': True, 'createStopMarketOrder': True, 'editOrder': True, 'fetchAccounts': None, 'fetchBalance': True, 'fetchBidsAsks': True, 'fetchBorrowInterest': True, 'fetchBorrowRate': True, 'fetchBorrowRateHistory': True, 'fetchBorrowRatesPerSymbol': False, 'fetchBorrowRates': False, 'fetchCanceledOrders': False, 'fetchClosedOrder': False, 'fetchClosedOrders': 'emulated', 'fetchCurrencies': True, 'fetchDeposit': False, 'fetchDepositAddress': True, 'fetchDepositAddresses': False, 'fetchDepositAddressesByNetwork': False, 'fetchDeposits': True, 'fetchFundingFee': None, 'fetchFundingFees': None, 'fetchFundingHistory': True, 'fetchFundingRate': True, 'fetchFundingRateHistory': True, 'fetchFundingRates': True, 'fetchIndexOHLCV': True, 'fetchL2OrderBook': True, 'fetchLedger': True, 'fetchLedgerEntry': None, 'fetchLeverageTiers': True, 'fetchMarketLeverageTiers': 'emulated', 'fetchMarkets': True, 'fetchMarkOHLCV': True, 'fetchMyTrades': True, 'fetchOHLCV': True, 'fetchOpenOrder': False, 'fetchOpenOrders': True, 'fetchOrder': True, 'fetchOrderBook': True, 'fetchOrderBooks': False, 'fetchOrders': True, 'fetchOrderTrades': True, 'fetchPermissions': None, 'fetchPosition': None, 'fetchPositions': True, 'fetchPositionsRisk': True, 'fetchPremiumIndexOHLCV': False, 'fetchStatus': True, 'fetchTicker': True, 'fetchTickers': True, 'fetchTime': True, 'fetchTrades': True, 'fetchTradingFee': True, 'fetchTradingFees': True, 'fetchTradingLimits': None, 'fetchTransactions': False, 'fetchTransfers': True, 'fetchWithdrawal': False, 'fetchWithdrawals': True, 'reduceMargin': True, 'setLeverage': True, 'setMargin': False, 'setMarginMode': True, 'setPositionMode': True, 'signIn': False, 'transfer': True, 'withdraw': True, 'borrowMargin': True, 'fetchBorrowRateHistories': False, 'fetchDepositWithdrawFee': 'emulated', 'fetchDepositWithdrawFees': True, 'fetchL3OrderBook': None, 'fetchLastPrices': True, 'fetchLeverage': False, 'fetchOpenInterest': True, 'fetchOpenInterestHistory': True, 'fetchSettlementHistory': True, 'fetchTransactionFee': None, 'fetchTransactionFees': True, 'fetchWithdrawalWhitelist': False, 'repayMargin': True}\n"
     ]
    }
   ],
   "source": [
    "print(exchange.has)"
   ]
  },
  {
   "attachments": {},
   "cell_type": "markdown",
   "metadata": {},
   "source": [
    "### time conversion"
   ]
  },
  {
   "cell_type": "code",
   "execution_count": 59,
   "metadata": {},
   "outputs": [
    {
     "name": "stdout",
     "output_type": "stream",
     "text": [
      "1678782048688\n",
      "2023-03-14T08:20:48.688Z\n"
     ]
    }
   ],
   "source": [
    "time = exchange.milliseconds()\n",
    "print(time)\n",
    "date_time = exchange.iso8601(exchange.milliseconds())\n",
    "print(date_time)\n"
   ]
  },
  {
   "attachments": {},
   "cell_type": "markdown",
   "metadata": {},
   "source": [
    "```\n",
    "{1591258320000,      // 开盘时间\n",
    "    \"9640.7\",           // 开盘价\n",
    "    \"9642.4\",           // 最高价\n",
    "    \"9640.6\",           // 最低价\n",
    "    \"9642.0\",           // 收盘价(当前K线未结束的即为最新价)\n",
    "    \"206\",              // 成交量/code\n",
    "}\n",
    "```"
   ]
  },
  {
   "cell_type": "code",
   "execution_count": 60,
   "metadata": {},
   "outputs": [],
   "source": [
    "df = pd.DataFrame(exchange.fetchOHLCV('BTCUSD_PERP', timeframe='1d'))"
   ]
  },
  {
   "cell_type": "code",
   "execution_count": 61,
   "metadata": {},
   "outputs": [
    {
     "name": "stdout",
     "output_type": "stream",
     "text": [
      "[0, 1, 2, 3, 4, 5]\n"
     ]
    }
   ],
   "source": [
    "columns = [n for n in df.columns]\n",
    "print(columns)"
   ]
  },
  {
   "cell_type": "code",
   "execution_count": 62,
   "metadata": {},
   "outputs": [],
   "source": [
    "df.columns = ['time', 'open', 'high', 'low', 'close', 'volume']"
   ]
  },
  {
   "cell_type": "code",
   "execution_count": 63,
   "metadata": {},
   "outputs": [],
   "source": [
    "# modify the columns\n",
    "df.set_index('time', inplace=True)"
   ]
  },
  {
   "cell_type": "code",
   "execution_count": 64,
   "metadata": {},
   "outputs": [],
   "source": [
    "# index modification: timestamp -> DateTimeIndex\n",
    "# df.index = pd.to_datetime(df.index)\n",
    "df.index = pd.to_datetime(df.index, unit='ms')"
   ]
  },
  {
   "cell_type": "code",
   "execution_count": 65,
   "metadata": {},
   "outputs": [
    {
     "data": {
      "text/plain": [
       "<bound method NDFrame.head of                open     high      low    close     volume\n",
       "time                                                     \n",
       "2022-08-27  22000.0  22000.0  18000.0  21799.0   815710.0\n",
       "2022-08-28  21799.0  21800.0  18500.0  19680.0   530184.0\n",
       "2022-08-29  19680.0  21799.0  18591.0  20287.6   886789.0\n",
       "2022-08-30  20286.8  21740.0  18599.0  21499.0  1177202.0\n",
       "2022-08-31  21499.0  21500.0  18599.0  21348.0   600826.0\n",
       "...             ...      ...      ...      ...        ...\n",
       "2023-03-10  21270.5  22139.9  19500.0  22000.0  1257195.0\n",
       "2023-03-11  22000.0  22500.0  20101.0  22299.9   692517.0\n",
       "2023-03-12  22299.9  23600.0  21000.0  23600.0   671133.0\n",
       "2023-03-13  23600.0  24999.0  21100.0  24500.0  3081969.0\n",
       "2023-03-14  24500.0  24990.0  22800.0  24330.0   474444.0\n",
       "\n",
       "[200 rows x 5 columns]>"
      ]
     },
     "execution_count": 65,
     "metadata": {},
     "output_type": "execute_result"
    }
   ],
   "source": [
    "df.head"
   ]
  },
  {
   "cell_type": "code",
   "execution_count": 66,
   "metadata": {},
   "outputs": [
    {
     "data": {
      "text/html": [
       "<div>\n",
       "<style scoped>\n",
       "    .dataframe tbody tr th:only-of-type {\n",
       "        vertical-align: middle;\n",
       "    }\n",
       "\n",
       "    .dataframe tbody tr th {\n",
       "        vertical-align: top;\n",
       "    }\n",
       "\n",
       "    .dataframe thead th {\n",
       "        text-align: right;\n",
       "    }\n",
       "</style>\n",
       "<table border=\"1\" class=\"dataframe\">\n",
       "  <thead>\n",
       "    <tr style=\"text-align: right;\">\n",
       "      <th></th>\n",
       "      <th>open</th>\n",
       "      <th>high</th>\n",
       "      <th>low</th>\n",
       "      <th>close</th>\n",
       "      <th>volume</th>\n",
       "    </tr>\n",
       "  </thead>\n",
       "  <tbody>\n",
       "    <tr>\n",
       "      <th>count</th>\n",
       "      <td>200.000000</td>\n",
       "      <td>200.000000</td>\n",
       "      <td>200.000000</td>\n",
       "      <td>200.000000</td>\n",
       "      <td>2.000000e+02</td>\n",
       "    </tr>\n",
       "    <tr>\n",
       "      <th>mean</th>\n",
       "      <td>20155.379000</td>\n",
       "      <td>21292.092000</td>\n",
       "      <td>18842.787000</td>\n",
       "      <td>20218.271000</td>\n",
       "      <td>1.132763e+06</td>\n",
       "    </tr>\n",
       "    <tr>\n",
       "      <th>std</th>\n",
       "      <td>2562.228724</td>\n",
       "      <td>2847.022682</td>\n",
       "      <td>2296.125792</td>\n",
       "      <td>2569.804334</td>\n",
       "      <td>5.400816e+05</td>\n",
       "    </tr>\n",
       "    <tr>\n",
       "      <th>min</th>\n",
       "      <td>16200.600000</td>\n",
       "      <td>16976.000000</td>\n",
       "      <td>14600.000000</td>\n",
       "      <td>16508.200000</td>\n",
       "      <td>2.292920e+05</td>\n",
       "    </tr>\n",
       "    <tr>\n",
       "      <th>25%</th>\n",
       "      <td>17378.475000</td>\n",
       "      <td>18552.500000</td>\n",
       "      <td>16804.250000</td>\n",
       "      <td>17640.200000</td>\n",
       "      <td>7.181985e+05</td>\n",
       "    </tr>\n",
       "    <tr>\n",
       "      <th>50%</th>\n",
       "      <td>20103.900000</td>\n",
       "      <td>21075.500000</td>\n",
       "      <td>18630.500000</td>\n",
       "      <td>20104.350000</td>\n",
       "      <td>1.021358e+06</td>\n",
       "    </tr>\n",
       "    <tr>\n",
       "      <th>75%</th>\n",
       "      <td>22324.700000</td>\n",
       "      <td>23945.325000</td>\n",
       "      <td>20375.000000</td>\n",
       "      <td>22324.500000</td>\n",
       "      <td>1.392925e+06</td>\n",
       "    </tr>\n",
       "    <tr>\n",
       "      <th>max</th>\n",
       "      <td>25925.900000</td>\n",
       "      <td>27100.000000</td>\n",
       "      <td>23229.900000</td>\n",
       "      <td>25925.900000</td>\n",
       "      <td>3.136177e+06</td>\n",
       "    </tr>\n",
       "  </tbody>\n",
       "</table>\n",
       "</div>"
      ],
      "text/plain": [
       "               open          high           low         close        volume\n",
       "count    200.000000    200.000000    200.000000    200.000000  2.000000e+02\n",
       "mean   20155.379000  21292.092000  18842.787000  20218.271000  1.132763e+06\n",
       "std     2562.228724   2847.022682   2296.125792   2569.804334  5.400816e+05\n",
       "min    16200.600000  16976.000000  14600.000000  16508.200000  2.292920e+05\n",
       "25%    17378.475000  18552.500000  16804.250000  17640.200000  7.181985e+05\n",
       "50%    20103.900000  21075.500000  18630.500000  20104.350000  1.021358e+06\n",
       "75%    22324.700000  23945.325000  20375.000000  22324.500000  1.392925e+06\n",
       "max    25925.900000  27100.000000  23229.900000  25925.900000  3.136177e+06"
      ]
     },
     "execution_count": 66,
     "metadata": {},
     "output_type": "execute_result"
    }
   ],
   "source": [
    "df.describe()"
   ]
  },
  {
   "attachments": {},
   "cell_type": "markdown",
   "metadata": {},
   "source": [
    "# compute the Fractal series"
   ]
  },
  {
   "cell_type": "code",
   "execution_count": 67,
   "metadata": {},
   "outputs": [
    {
     "name": "stdout",
     "output_type": "stream",
     "text": [
      "[False False False]\n"
     ]
    }
   ],
   "source": [
    "arr1 = np.array([True, False, False])\n",
    "arr2 = np.array([True, False,True])\n",
    "arr3 = np.array([False, False, False])\n",
    "# arr3 = np.logical_and([arr1, arr2, arr3]) the expression is wrong, because only the first two elements was compared\n",
    "arr_Modified = np.logical_and.reduce([arr1,arr2,arr3])\n",
    "print(arr_Modified)"
   ]
  },
  {
   "cell_type": "code",
   "execution_count": 68,
   "metadata": {},
   "outputs": [
    {
     "data": {
      "text/plain": [
       "pandas.core.series.Series"
      ]
     },
     "execution_count": 68,
     "metadata": {},
     "output_type": "execute_result"
    }
   ],
   "source": [
    "periods = [-2, -1, 1, 2]\n",
    "# get 4 series[Bool]\n",
    "highs = [ df['high'] > df['high'].shift(p) for p in periods ]\n",
    "len(highs)\n",
    "type(highs[0])"
   ]
  },
  {
   "cell_type": "code",
   "execution_count": 69,
   "metadata": {},
   "outputs": [
    {
     "name": "stdout",
     "output_type": "stream",
     "text": [
      "[False False False False False  True False False  True False False False\n",
      " False False False False  True False False False False False False False\n",
      " False False False False False False False  True False False False False\n",
      " False False False False False False False False False False False False\n",
      " False False False False  True False False False False False False False\n",
      "  True False False False False False False False False  True False False\n",
      "  True False False False False False False False False False False  True\n",
      " False False False False False False False False False False False  True\n",
      " False False False False False False False False False False False False\n",
      " False False False False False False False False False False False False\n",
      " False False False False False False False False False  True False False\n",
      "  True False False False False False False False  True False False False\n",
      " False False False False False  True False False  True False False False\n",
      " False False False False False  True False False  True False False False\n",
      " False  True False False False False False False False False False False\n",
      " False  True False False False False  True False False False False  True\n",
      " False False False False False False False False]\n"
     ]
    }
   ],
   "source": [
    "# 4 Series[bool] => bears: Series[bool]\n",
    "bears = np.logical_and.reduce(highs)\n",
    "print(bears)"
   ]
  },
  {
   "cell_type": "code",
   "execution_count": 70,
   "metadata": {},
   "outputs": [],
   "source": [
    "from typing import Tuple\n",
    "\n",
    "\n",
    "def loc_frac(df: pd.DataFrame, period: int = 2) -> Tuple[pd.Series, pd.Series]:\n",
    "    \"\"\"Indicate bearish and bullish fractal patterns using shifted Series.\n",
    "\n",
    "    :param df: OHLC data\n",
    "    :param period: number of lower (or higher) points on each side of a high (or low)\n",
    "    :return: tuple of boolean Series (bearish, bullish) where True marks a fractal pattern\n",
    "    \"\"\"\n",
    "\n",
    "    # default [-2, -1, 1, 2]\n",
    "    periods = [p for p in range(-period, period + 1) if p != 0]\n",
    "\n",
    "    highs = [df['high'] > df['high'].shift(p) for p in periods]\n",
    "    bears = pd.Series(np.logical_and.reduce(highs), index=df.index)\n",
    "\n",
    "    lows = [df['low'] < df['low'].shift(p) for p in periods]\n",
    "    bulls = pd.Series(np.logical_and.reduce(lows), index=df.index)\n",
    "\n",
    "    return bears, bulls\n"
   ]
  },
  {
   "cell_type": "code",
   "execution_count": 71,
   "metadata": {},
   "outputs": [],
   "source": [
    "bears, bulls = loc_frac(df, period=3)"
   ]
  },
  {
   "cell_type": "code",
   "execution_count": 72,
   "metadata": {},
   "outputs": [
    {
     "name": "stdout",
     "output_type": "stream",
     "text": [
      "time\n",
      "2022-08-27    False\n",
      "2022-08-28    False\n",
      "2022-08-29    False\n",
      "2022-08-30    False\n",
      "2022-08-31    False\n",
      "              ...  \n",
      "2023-03-10    False\n",
      "2023-03-11    False\n",
      "2023-03-12    False\n",
      "2023-03-13    False\n",
      "2023-03-14    False\n",
      "Length: 200, dtype: bool <class 'pandas.core.series.Series'>\n"
     ]
    }
   ],
   "source": [
    "print(bears, type(bears)) "
   ]
  },
  {
   "attachments": {},
   "cell_type": "markdown",
   "metadata": {},
   "source": [
    "### get the actual row from the bears: Series[bool], bull: Series[bool]"
   ]
  },
  {
   "cell_type": "code",
   "execution_count": 73,
   "metadata": {},
   "outputs": [],
   "source": [
    "# use the bears, bulls as filters\n",
    "bear_fractals = df.loc[bears]\n",
    "bull_fractals = df.loc[bulls]\n"
   ]
  },
  {
   "attachments": {},
   "cell_type": "markdown",
   "metadata": {},
   "source": [
    "## visiualization"
   ]
  },
  {
   "cell_type": "code",
   "execution_count": 74,
   "metadata": {},
   "outputs": [],
   "source": [
    "import matplotlib.pyplot as plt\n",
    "import mplfinance as mpf\n"
   ]
  },
  {
   "cell_type": "code",
   "execution_count": 76,
   "metadata": {},
   "outputs": [],
   "source": [
    "# reconstruct the bears_fractals\n",
    "def bear_fractal_signal(bears: pd.Series, df: pd.DataFrame) -> pd.DataFrame:\n",
    "    signal = [] \n",
    "    for date_index in bears.index:\n",
    "        if bears.loc[date_index]:\n",
    "            signal.append(df.loc[date_index]['high'])\n",
    "        else:\n",
    "            signal.append(np.nan)\n",
    "    return signal\n",
    "      \n",
    "         "
   ]
  },
  {
   "cell_type": "code",
   "execution_count": 77,
   "metadata": {},
   "outputs": [
    {
     "data": {
      "image/png": "[encoded data removed]",
      "text/plain": [
       "<Figure size 1277.78x575 with 2 Axes>"
      ]
     },
     "metadata": {},
     "output_type": "display_data"
    }
   ],
   "source": [
    "# create the K-line chart\n",
    "# TODO: chart annotations\n",
    "highlight_rows = bear_fractal_signal(bears, df)\n",
    "# annotation\n",
    "ap = mpf.make_addplot(highlight_rows, type='scatter', marker='^',color='red')\n",
    "mpf.plot(df, type='candle', figratio=(20,9), addplot=ap)\n"
   ]
  }
 ],
 "metadata": {
  "kernelspec": {
   "display_name": "base",
   "language": "python",
   "name": "python3"
  },
  "language_info": {
   "codemirror_mode": {
    "name": "ipython",
    "version": 3
   },
   "file_extension": ".py",
   "mimetype": "text/x-python",
   "name": "python",
   "nbconvert_exporter": "python",
   "pygments_lexer": "ipython3",
   "version": "3.9.13"
  },
  "orig_nbformat": 4,
  "vscode": {
   "interpreter": {
    "hash": "ad2bdc8ecc057115af97d19610ffacc2b4e99fae6737bb82f5d7fb13d2f2c186"
   }
  }
 },
 "nbformat": 4,
 "nbformat_minor": 2
}
