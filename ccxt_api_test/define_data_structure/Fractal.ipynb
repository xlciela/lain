{
 "cells": [
  {
   "cell_type": "code",
   "execution_count": 1,
   "metadata": {},
   "outputs": [],
   "source": [
    "import pandas as pd"
   ]
  },
  {
   "cell_type": "code",
   "execution_count": 2,
   "metadata": {},
   "outputs": [],
   "source": [
    "def wilFractal(dataframe):\n",
    "        df = dataframe.copy()\n",
    "        df['bear_fractal'] = (\n",
    "                dataframe['high'].shift(4).lt(dataframe['high'].shift(2)) &\n",
    "                dataframe['high'].shift(3).lt(dataframe['high'].shift(2)) &\n",
    "                dataframe['high'].shift(1).lt(dataframe['high'].shift(2)) &\n",
    "                dataframe['high'].lt(dataframe['high'].shift(2))\n",
    "        )\n",
    "    \n",
    "        df['bull_fractal'] = (\n",
    "                dataframe['low'].shift(4).gt(dataframe['low'].shift(2)) &\n",
    "                dataframe['low'].shift(3).gt(dataframe['low'].shift(2)) &\n",
    "                dataframe['low'].shift(1).gt(dataframe['low'].shift(2)) &\n",
    "                dataframe['low'].gt(dataframe['high'].shift(2))\n",
    "        )\n",
    "    \n",
    "        return df['bear_fractal'], df['bull_fractal']"
   ]
  },
  {
   "cell_type": "code",
   "execution_count": 5,
   "metadata": {},
   "outputs": [
    {
     "name": "stdout",
     "output_type": "stream",
     "text": [
      "[-2, -1, 0, 1, 2]\n"
     ]
    }
   ],
   "source": [
    "result = [ p for p in range(-2, 3)]\n",
    "print(result)"
   ]
  },
  {
   "cell_type": "code",
   "execution_count": null,
   "metadata": {},
   "outputs": [],
   "source": []
  }
 ],
 "metadata": {
  "kernelspec": {
   "display_name": "base",
   "language": "python",
   "name": "python3"
  },
  "language_info": {
   "codemirror_mode": {
    "name": "ipython",
    "version": 3
   },
   "file_extension": ".py",
   "mimetype": "text/x-python",
   "name": "python",
   "nbconvert_exporter": "python",
   "pygments_lexer": "ipython3",
   "version": "3.9.13"
  },
  "orig_nbformat": 4,
  "vscode": {
   "interpreter": {
    "hash": "ad2bdc8ecc057115af97d19610ffacc2b4e99fae6737bb82f5d7fb13d2f2c186"
   }
  }
 },
 "nbformat": 4,
 "nbformat_minor": 2
}
