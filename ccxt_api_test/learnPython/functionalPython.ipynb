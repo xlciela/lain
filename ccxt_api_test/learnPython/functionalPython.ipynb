{
 "cells": [
  {
   "attachments": {},
   "cell_type": "markdown",
   "metadata": {},
   "source": [
    "### returning many results"
   ]
  },
  {
   "cell_type": "code",
   "execution_count": null,
   "metadata": {},
   "outputs": [],
   "source": [
    "def npv_irr(rate, values, guess= 0.05):\n",
    "    NPV = 0\n",
    "    for i in range(len(values)):\n",
    "        NPV += values[i]/(1+rate)**i"
   ]
  }
 ],
 "metadata": {
  "language_info": {
   "name": "python"
  },
  "orig_nbformat": 4
 },
 "nbformat": 4,
 "nbformat_minor": 2
}
