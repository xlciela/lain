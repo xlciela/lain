{
 "cells": [
  {
   "attachments": {},
   "cell_type": "markdown",
   "metadata": {},
   "source": [
    "# python OOP"
   ]
  },
  {
   "attachments": {},
   "cell_type": "markdown",
   "metadata": {},
   "source": [
    "### Fractal"
   ]
  },
  {
   "cell_type": "code",
   "execution_count": 21,
   "metadata": {},
   "outputs": [],
   "source": [
    "# enable type annotation\n",
    "import typing\n",
    "from queue import Queue"
   ]
  },
  {
   "cell_type": "code",
   "execution_count": 33,
   "metadata": {},
   "outputs": [],
   "source": [
    "# peekable and readable queue\n",
    "class MyQueue(Queue):\n",
    "\tdef peek(self):\n",
    "\t\tif not self.empty():\n",
    "\t\t\treturn self.queue[0]\n",
    "\tdef getAll(self):\n",
    "\t\tresult = []\n",
    "\t\tfor element in self.queue:\n",
    "\t\t\tresult.append(element)\n",
    "\t\treturn result\t\n"
   ]
  },
  {
   "cell_type": "code",
   "execution_count": 38,
   "metadata": {},
   "outputs": [],
   "source": [
    "from typing import NamedTuple, Dict, List\n",
    "\n",
    "class Fractal(NamedTuple):\n",
    "\ttime: str\n",
    "\tvalue: int\n",
    "\ttype: enumerate\n",
    "\n",
    "class Fractals:\n",
    "\t# only record the fractals @pair @timeFrame\n",
    "    # new Fractal instance for each commodity type bounded with the TTF\n",
    "\tdef __init__(self, pair:str):\n",
    "\t\tself.fractals = MyQueue(maxsize= 50)\n",
    "\t\tself.pair = pair\n",
    "\t\tself.latestFractal: Fractal\n",
    "\n",
    "\tdef update(self, fractal: Fractal) -> None:\n",
    "\t\t\tself.fractals.get()\n",
    "\t\t\tself.fractals.put(fractal)\n",
    "\t\t\n"
   ]
  },
  {
   "cell_type": "code",
   "execution_count": 40,
   "metadata": {},
   "outputs": [],
   "source": [
    "ethFractals = Fractals('ETHUSDT')"
   ]
  },
  {
   "cell_type": "code",
   "execution_count": 41,
   "metadata": {},
   "outputs": [],
   "source": [
    "\n",
    "\n",
    "from typing import Dict, List\n",
    "\n",
    "\n",
    "class Range:\n",
    "\t# static fields\n",
    "\t_range_instances = {}\n",
    "\t# singleton class\n",
    "\tdef __init__(self, bottom: int, top: int):\n",
    "\t\tself.top = top\n",
    "\t\tself.bottom = bottom\n",
    "\n",
    "\t@staticmethod\n",
    "\tdef createRange(pair: str, timeFrame: str):\n",
    "\t\trange = Range(pair, timeFrame)\n",
    "\t\tkey = pair + \"@\"+ timeFrame\n",
    "\t\tif key not in Range._range_instances:\n",
    "\t\t\tRange._range_instances[key] = range(0,0)\n",
    "\t\treturn Range._range_instances[key]\n",
    "\n",
    "\n",
    "\tdef get_upper_band(self)-> List[int]:\n",
    "\t\treturn [(self.top+self.bottom)/2, self.top]\n",
    "\tdef get_lower_band(self)-> List[int]:\n",
    "\t\treturn [self.bottom, (self.top+self.bottom)/2]\n",
    "\tdef updateRange(self, fractal: List[Dict[str, int]]) -> None:\n",
    "\t\tif fractal[0].value > self.top:\n",
    "\t\t\tself.top = fractal.value\n",
    "\t\telif fractal[0].value < self.bottom:\n",
    "\t\t\tself.bottom = fractal.value\n"
   ]
  },
  {
   "attachments": {},
   "cell_type": "markdown",
   "metadata": {},
   "source": [
    "# Design Patterns"
   ]
  },
  {
   "attachments": {},
   "cell_type": "markdown",
   "metadata": {},
   "source": [
    "## Creational"
   ]
  },
  {
   "attachments": {},
   "cell_type": "markdown",
   "metadata": {},
   "source": [
    "### Singleton"
   ]
  },
  {
   "cell_type": "code",
   "execution_count": 30,
   "metadata": {},
   "outputs": [],
   "source": [
    "class Singleton:\n",
    "    # override __new__ method\n",
    "    def __new__(cls, *args, **kwargs):\n",
    "        print(\"Singleton.__new__ called by %s\" % cls)\n",
    "        if not hasattr(cls, '_instance'):\n",
    "            cls._instance = super().__new__(cls)\n",
    "        return cls._instance"
   ]
  },
  {
   "cell_type": "code",
   "execution_count": 31,
   "metadata": {},
   "outputs": [],
   "source": [
    "class SubClass(Singleton):\n",
    "    def __init__(self, value):\n",
    "        self.value = value"
   ]
  },
  {
   "cell_type": "code",
   "execution_count": 32,
   "metadata": {},
   "outputs": [
    {
     "name": "stdout",
     "output_type": "stream",
     "text": [
      "Singleton.__new__ called by <class '__main__.SubClass'>\n",
      "Singleton.__new__ called by <class '__main__.SubClass'>\n"
     ]
    }
   ],
   "source": [
    "ins1 = SubClass(1)\n",
    "ins2 = SubClass(2)"
   ]
  },
  {
   "cell_type": "code",
   "execution_count": 36,
   "metadata": {},
   "outputs": [
    {
     "name": "stdout",
     "output_type": "stream",
     "text": [
      "2\n",
      "2\n"
     ]
    }
   ],
   "source": [
    "print(ins1.value)\n",
    "print(ins2.value)"
   ]
  },
  {
   "cell_type": "code",
   "execution_count": 37,
   "metadata": {},
   "outputs": [
    {
     "data": {
      "text/plain": [
       "True"
      ]
     },
     "execution_count": 37,
     "metadata": {},
     "output_type": "execute_result"
    }
   ],
   "source": [
    "ins1 is ins2"
   ]
  },
  {
   "attachments": {},
   "cell_type": "markdown",
   "metadata": {},
   "source": [
    "### Factory"
   ]
  },
  {
   "cell_type": "code",
   "execution_count": null,
   "metadata": {},
   "outputs": [],
   "source": []
  },
  {
   "attachments": {},
   "cell_type": "markdown",
   "metadata": {},
   "source": [
    "## Structural"
   ]
  },
  {
   "attachments": {},
   "cell_type": "markdown",
   "metadata": {},
   "source": [
    "### Adapter"
   ]
  },
  {
   "cell_type": "code",
   "execution_count": 47,
   "metadata": {},
   "outputs": [],
   "source": [
    "# interface\n",
    "from abc import ABCMeta, abstractmethod\n",
    "\n",
    "\n",
    "class Payment(metaclass=ABCMeta):\n",
    "    @abstractmethod\n",
    "    def pay(self, amount):\n",
    "        pass\n",
    "    \n",
    "class Alipay(Payment):\n",
    "    def pay(self, amount):\n",
    "        print(\"Alipay payed %s\" % amount)\n",
    "\n",
    "class BankPay:\n",
    "    def transaction(self, amount):\n",
    "        print(\"BankPay payed %s\" % amount)\n"
   ]
  },
  {
   "cell_type": "code",
   "execution_count": 44,
   "metadata": {},
   "outputs": [],
   "source": [
    "p = Alipay()"
   ]
  },
  {
   "cell_type": "code",
   "execution_count": 48,
   "metadata": {},
   "outputs": [],
   "source": [
    "# modify the BankPay class to make it compatible with the Payment interface\n",
    "\n",
    "# class adapter\n",
    "class ModifiedBankPay(Payment, BankPay):\n",
    "    def pay(self, amount):\n",
    "        self.transaction(amount)"
   ]
  },
  {
   "cell_type": "code",
   "execution_count": 49,
   "metadata": {},
   "outputs": [],
   "source": [
    "# reuse codes by Composition\n",
    "\n",
    "# object adapter\n",
    "class PaymentAdapter(Payment):\n",
    "    def __init__(self, payment):\n",
    "        self.payment = payment\n",
    "    def pay(self, amount):\n",
    "        self.payment.transaction(amount)\n",
    "\n",
    "p = PaymentAdapter(BankPay())"
   ]
  },
  {
   "attachments": {},
   "cell_type": "markdown",
   "metadata": {},
   "source": [
    "### Bridge"
   ]
  },
  {
   "cell_type": "code",
   "execution_count": 50,
   "metadata": {},
   "outputs": [],
   "source": [
    "# dimention 1\n",
    "class Shape(metaclass=ABCMeta):\n",
    "    def __init__(self, color):\n",
    "        self.color = color\n",
    "\n",
    "    @abstractmethod\n",
    "    def draw(self):\n",
    "        pass\n",
    "\n",
    "# dimention 2 \n",
    "class Color(metaclass=ABCMeta):\n",
    "    @abstractmethod\n",
    "    def paint(self, shape):\n",
    "        pass\n"
   ]
  },
  {
   "cell_type": "code",
   "execution_count": 51,
   "metadata": {},
   "outputs": [],
   "source": [
    "class Rectangle(Shape):\n",
    "    name = 'Rectangle'\n",
    "\n",
    "    def draw(self):\n",
    "        self.color.paint(self)\n",
    "\n",
    "class Red(Color):\n",
    "    def paint(self, shape):\n",
    "        print(\"Red paint %s\" % shape.name)\n",
    "            \n",
    "class Blue(Color):\n",
    "    def paint(self, shape):\n",
    "        print(\"Blue paint %s\" % shape.name)"
   ]
  },
  {
   "cell_type": "code",
   "execution_count": 54,
   "metadata": {},
   "outputs": [
    {
     "name": "stdout",
     "output_type": "stream",
     "text": [
      "Red paint Rectangle\n",
      "Blue paint Rectangle\n"
     ]
    }
   ],
   "source": [
    "rec_shape = Rectangle(Red())\n",
    "rec_shape_blue = Rectangle(Blue())\n",
    "rec_shape.draw()\n",
    "rec_shape_blue.draw()"
   ]
  },
  {
   "cell_type": "code",
   "execution_count": 55,
   "metadata": {},
   "outputs": [
    {
     "name": "stdout",
     "output_type": "stream",
     "text": [
      "White paint Line\n"
     ]
    }
   ],
   "source": [
    "class Line(Shape):\n",
    "    name = 'Line'\n",
    "\n",
    "    def draw(self):\n",
    "        self.color.paint(self)\n",
    "class White(Color):\n",
    "    def paint(self, shape):\n",
    "        print(\"White paint %s\" % shape.name)\n",
    "white_line = Line(White())\n",
    "white_line.draw()"
   ]
  },
  {
   "attachments": {},
   "cell_type": "markdown",
   "metadata": {},
   "source": [
    "### Composite\n"
   ]
  },
  {
   "cell_type": "code",
   "execution_count": 56,
   "metadata": {},
   "outputs": [],
   "source": [
    "class Graphic(metaclass=ABCMeta):\n",
    "    @abstractmethod\n",
    "    def draw(self):\n",
    "        pass\n",
    "class Point(Graphic):\n",
    "    def __init__(self, x, y) -> None:\n",
    "        self.x = x\n",
    "        self.y = y\n",
    "    def __str__(self) -> str:\n",
    "        return \"(x: %s, y: %s)\" % (self.x, self.y)\n",
    "\n",
    "    def draw(self):\n",
    "        print(\"Point: \"+str(self))\n",
    "\n",
    "class Line(Graphic):\n",
    "    def __init__(self, start: Point, end: Point) -> None:\n",
    "        self.start = start\n",
    "        self.end = end\n",
    "\n",
    "    def draw(self):\n",
    "        print(\"Line from %s to %s\" % (self.start, self.end))"
   ]
  },
  {
   "cell_type": "code",
   "execution_count": 72,
   "metadata": {},
   "outputs": [],
   "source": [
    "# high-level-graphic\n",
    "class Picture(Graphic):\n",
    "    def __init__(self, iterable) -> None:\n",
    "        self.components = []\n",
    "        self.components.extend(iterable)\n",
    "\n",
    "    def add(self, component: Graphic):\n",
    "        self.components.append(component)\n",
    "\n",
    "    def draw(self):\n",
    "        print('------------------')\n",
    "        for component in self.components:\n",
    "            component.draw()"
   ]
  },
  {
   "cell_type": "code",
   "execution_count": 57,
   "metadata": {},
   "outputs": [
    {
     "name": "stdout",
     "output_type": "stream",
     "text": [
      "<__main__.Line object at 0x0000020B54F041C0>\n"
     ]
    }
   ],
   "source": [
    "l = Line(Point(1,2), Point(3,4))\n",
    "print(l)"
   ]
  },
  {
   "cell_type": "code",
   "execution_count": 58,
   "metadata": {},
   "outputs": [
    {
     "name": "stdout",
     "output_type": "stream",
     "text": [
      "Line from (x: 1, y: 2) to (x: 3, y: 4)\n"
     ]
    }
   ],
   "source": [
    "l.draw()"
   ]
  },
  {
   "cell_type": "code",
   "execution_count": 73,
   "metadata": {},
   "outputs": [],
   "source": [
    "p1 = Point(1,2)\n",
    "l2 = Line(Point(3,4), Point(5,6))\n",
    "l3 = Line(Point(7,8), Point(9,99999))\n",
    "pic = Picture([p1, l2, l3])"
   ]
  },
  {
   "cell_type": "code",
   "execution_count": 74,
   "metadata": {},
   "outputs": [
    {
     "name": "stdout",
     "output_type": "stream",
     "text": [
      "------------------\n",
      "Point: (x: 1, y: 2)\n",
      "Line from (x: 3, y: 4) to (x: 5, y: 6)\n",
      "Line from (x: 7, y: 8) to (x: 9, y: 99999)\n"
     ]
    }
   ],
   "source": [
    "pic.draw()"
   ]
  },
  {
   "attachments": {},
   "cell_type": "markdown",
   "metadata": {},
   "source": [
    "### Decorator"
   ]
  },
  {
   "cell_type": "code",
   "execution_count": null,
   "metadata": {},
   "outputs": [],
   "source": []
  },
  {
   "attachments": {},
   "cell_type": "markdown",
   "metadata": {},
   "source": [
    "## Behavioral"
   ]
  },
  {
   "attachments": {},
   "cell_type": "markdown",
   "metadata": {},
   "source": [
    "### Observer"
   ]
  },
  {
   "cell_type": "code",
   "execution_count": null,
   "metadata": {},
   "outputs": [],
   "source": []
  },
  {
   "attachments": {},
   "cell_type": "markdown",
   "metadata": {},
   "source": [
    "### Strategy"
   ]
  },
  {
   "cell_type": "code",
   "execution_count": null,
   "metadata": {},
   "outputs": [],
   "source": []
  }
 ],
 "metadata": {
  "kernelspec": {
   "display_name": "base",
   "language": "python",
   "name": "python3"
  },
  "language_info": {
   "codemirror_mode": {
    "name": "ipython",
    "version": 3
   },
   "file_extension": ".py",
   "mimetype": "text/x-python",
   "name": "python",
   "nbconvert_exporter": "python",
   "pygments_lexer": "ipython3",
   "version": "3.9.13"
  },
  "orig_nbformat": 4,
  "vscode": {
   "interpreter": {
    "hash": "ad2bdc8ecc057115af97d19610ffacc2b4e99fae6737bb82f5d7fb13d2f2c186"
   }
  }
 },
 "nbformat": 4,
 "nbformat_minor": 2
}
