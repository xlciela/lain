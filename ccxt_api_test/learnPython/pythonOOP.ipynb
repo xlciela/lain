{
 "cells": [
  {
   "attachments": {},
   "cell_type": "markdown",
   "metadata": {},
   "source": [
    "# python OOP"
   ]
  },
  {
   "attachments": {},
   "cell_type": "markdown",
   "metadata": {},
   "source": [
    "### Fractal"
   ]
  },
  {
   "cell_type": "code",
   "execution_count": 21,
   "metadata": {},
   "outputs": [],
   "source": [
    "# enable type annotation\n",
    "import typing\n",
    "from queue import Queue"
   ]
  },
  {
   "cell_type": "code",
   "execution_count": 33,
   "metadata": {},
   "outputs": [],
   "source": [
    "# peekable and readable queue\n",
    "class MyQueue(Queue):\n",
    "\tdef peek(self):\n",
    "\t\tif not self.empty():\n",
    "\t\t\treturn self.queue[0]\n",
    "\tdef getAll(self):\n",
    "\t\tresult = []\n",
    "\t\tfor element in self.queue:\n",
    "\t\t\tresult.append(element)\n",
    "\t\treturn result\t\n"
   ]
  },
  {
   "cell_type": "code",
   "execution_count": 38,
   "metadata": {},
   "outputs": [],
   "source": [
    "from typing import NamedTuple, Dict, List\n",
    "\n",
    "class Fractal(NamedTuple):\n",
    "\ttime: str\n",
    "\tvalue: int\n",
    "\ttype: enumerate\n",
    "\n",
    "class Fractals:\n",
    "\t# only record the fractals @pair @timeFrame\n",
    "    # new Fractal instance for each commodity type bounded with the TTF\n",
    "\tdef __init__(self, pair:str):\n",
    "\t\tself.fractals = MyQueue(maxsize= 50)\n",
    "\t\tself.pair = pair\n",
    "\t\tself.latestFractal: Fractal\n",
    "\n",
    "\tdef update(self, fractal: Fractal) -> None:\n",
    "\t\t\tself.fractals.get()\n",
    "\t\t\tself.fractals.put(fractal)\n",
    "\t\t\n"
   ]
  },
  {
   "cell_type": "code",
   "execution_count": 40,
   "metadata": {},
   "outputs": [],
   "source": [
    "ethFractals = Fractals('ETHUSDT')"
   ]
  },
  {
   "cell_type": "code",
   "execution_count": 41,
   "metadata": {},
   "outputs": [],
   "source": [
    "\n",
    "\n",
    "from typing import Dict, List\n",
    "\n",
    "\n",
    "class Range:\n",
    "\t# static fields\n",
    "\t_range_instances = {}\n",
    "\t# singleton class\n",
    "\tdef __init__(self, bottom: int, top: int):\n",
    "\t\tself.top = top\n",
    "\t\tself.bottom = bottom\n",
    "\n",
    "\t@staticmethod\n",
    "\tdef createRange(pair: str, timeFrame: str):\n",
    "\t\trange = Range(pair, timeFrame)\n",
    "\t\tkey = pair + \"@\"+ timeFrame\n",
    "\t\tif key not in Range._range_instances:\n",
    "\t\t\tRange._range_instances[key] = range(0,0)\n",
    "\t\treturn Range._range_instances[key]\n",
    "\n",
    "\n",
    "\tdef get_upper_band(self)-> List[int]:\n",
    "\t\treturn [(self.top+self.bottom)/2, self.top]\n",
    "\tdef get_lower_band(self)-> List[int]:\n",
    "\t\treturn [self.bottom, (self.top+self.bottom)/2]\n",
    "\tdef updateRange(self, fractal: List[Dict[str, int]]) -> None:\n",
    "\t\tif fractal[0].value > self.top:\n",
    "\t\t\tself.top = fractal.value\n",
    "\t\telif fractal[0].value < self.bottom:\n",
    "\t\t\tself.bottom = fractal.value\n"
   ]
  },
  {
   "attachments": {},
   "cell_type": "markdown",
   "metadata": {},
   "source": [
    "### OOP part 1"
   ]
  },
  {
   "cell_type": "code",
   "execution_count": null,
   "metadata": {},
   "outputs": [],
   "source": []
  }
 ],
 "metadata": {
  "kernelspec": {
   "display_name": "base",
   "language": "python",
   "name": "python3"
  },
  "language_info": {
   "codemirror_mode": {
    "name": "ipython",
    "version": 3
   },
   "file_extension": ".py",
   "mimetype": "text/x-python",
   "name": "python",
   "nbconvert_exporter": "python",
   "pygments_lexer": "ipython3",
   "version": "3.9.13"
  },
  "orig_nbformat": 4,
  "vscode": {
   "interpreter": {
    "hash": "ad2bdc8ecc057115af97d19610ffacc2b4e99fae6737bb82f5d7fb13d2f2c186"
   }
  }
 },
 "nbformat": 4,
 "nbformat_minor": 2
}
