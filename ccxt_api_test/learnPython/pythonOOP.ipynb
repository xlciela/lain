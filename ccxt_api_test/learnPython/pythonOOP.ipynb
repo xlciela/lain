{
 "cells": [
  {
   "attachments": {},
   "cell_type": "markdown",
   "metadata": {},
   "source": [
    "# python OOP"
   ]
  },
  {
   "cell_type": "code",
   "execution_count": 21,
   "metadata": {},
   "outputs": [],
   "source": [
    "# enable type annotation\n",
    "import typing\n",
    "from queue import Queue"
   ]
  },
  {
   "cell_type": "code",
   "execution_count": 33,
   "metadata": {},
   "outputs": [],
   "source": [
    "# peekable and readable queue\n",
    "class MyQueue(Queue):\n",
    "\tdef peek(self):\n",
    "\t\tif not self.empty():\n",
    "\t\t\treturn self.queue[0]\n",
    "\tdef getAll(self):\n",
    "\t\tresult = []\n",
    "\t\tfor element in self.queue:\n",
    "\t\t\tresult.append(element)\n",
    "\t\treturn result\t\n"
   ]
  },
  {
   "cell_type": "code",
   "execution_count": 38,
   "metadata": {},
   "outputs": [],
   "source": [
    "from typing import NamedTuple, Dict, List\n",
    "\n",
    "class Fractal(NamedTuple):\n",
    "\ttime: str\n",
    "\tvalue: int\n",
    "\ttype: enumerate\n",
    "\n",
    "class Fractals:\n",
    "\t# only record the fractals @pair @timeFrame\n",
    "    # new Fractal instance for each commodity type bounded with the TTF\n",
    "\tdef __init__(self, pair:str):\n",
    "\t\tself.fractals = MyQueue(maxsize= 50)\n",
    "\t\tself.pair = pair\n",
    "\t\tself.latestFractal: Fractal\n",
    "\n",
    "\tdef update(self, fractal: Fractal) -> None:\n",
    "\t\t\tself.fractals.get()\n",
    "\t\t\tself.fractals.put(fractal)\n",
    "\t\t\n"
   ]
  },
  {
   "cell_type": "code",
   "execution_count": 40,
   "metadata": {},
   "outputs": [],
   "source": [
    "ethFractals = Fractals('ETHUSDT')"
   ]
  },
  {
   "cell_type": "code",
   "execution_count": 41,
   "metadata": {},
   "outputs": [],
   "source": [
    "\n",
    "\n",
    "from typing import Dict, List\n",
    "\n",
    "\n",
    "class Range:\n",
    "\t# static fields\n",
    "\t_range_instances = {}\n",
    "\t# singleton class\n",
    "\tdef __init__(self, bottom: int, top: int):\n",
    "\t\tself.top = top\n",
    "\t\tself.bottom = bottom\n",
    "\n",
    "\t@staticmethod\n",
    "\tdef createRange(pair: str, timeFrame: str):\n",
    "\t\trange = Range(pair, timeFrame)\n",
    "\t\tkey = pair + \"@\"+ timeFrame\n",
    "\t\tif key not in Range._range_instances:\n",
    "\t\t\tRange._range_instances[key] = range(0,0)\n",
    "\t\treturn Range._range_instances[key]\n",
    "\n",
    "\n",
    "\tdef get_upper_band(self)-> List[int]:\n",
    "\t\treturn [(self.top+self.bottom)/2, self.top]\n",
    "\tdef get_lower_band(self)-> List[int]:\n",
    "\t\treturn [self.bottom, (self.top+self.bottom)/2]\n",
    "\tdef updateRange(self, fractal: List[Dict[str, int]]) -> None:\n",
    "\t\tif fractal[0].value > self.top:\n",
    "\t\t\tself.top = fractal.value\n",
    "\t\telif fractal[0].value < self.bottom:\n",
    "\t\t\tself.bottom = fractal.value\n"
   ]
  },
  {
   "cell_type": "code",
   "execution_count": 42,
   "metadata": {},
   "outputs": [
    {
     "ename": "TypeError",
     "evalue": "'Range' object is not callable",
     "output_type": "error",
     "traceback": [
      "\u001b[1;31m---------------------------------------------------------------------------\u001b[0m",
      "\u001b[1;31mTypeError\u001b[0m                                 Traceback (most recent call last)",
      "\u001b[1;32m~\\AppData\\Local\\Temp\\ipykernel_5576\\903522346.py\u001b[0m in \u001b[0;36m<module>\u001b[1;34m\u001b[0m\n\u001b[1;32m----> 1\u001b[1;33m \u001b[0mrange1\u001b[0m \u001b[1;33m=\u001b[0m \u001b[0mRange\u001b[0m\u001b[1;33m.\u001b[0m\u001b[0mcreateRange\u001b[0m\u001b[1;33m(\u001b[0m\u001b[1;34m'ETHUSDT'\u001b[0m\u001b[1;33m,\u001b[0m \u001b[1;34m'1h'\u001b[0m\u001b[1;33m)\u001b[0m\u001b[1;33m\u001b[0m\u001b[1;33m\u001b[0m\u001b[0m\n\u001b[0m\u001b[0;32m      2\u001b[0m \u001b[0mprint\u001b[0m\u001b[1;33m(\u001b[0m\u001b[0mrange1\u001b[0m\u001b[1;33m)\u001b[0m\u001b[1;33m\u001b[0m\u001b[1;33m\u001b[0m\u001b[0m\n",
      "\u001b[1;32m~\\AppData\\Local\\Temp\\ipykernel_5576\\789981722.py\u001b[0m in \u001b[0;36mcreateRange\u001b[1;34m(pair, timeFrame)\u001b[0m\n\u001b[0;32m     15\u001b[0m                 \u001b[0mkey\u001b[0m \u001b[1;33m=\u001b[0m \u001b[0mpair\u001b[0m \u001b[1;33m+\u001b[0m \u001b[1;34m\"@\"\u001b[0m\u001b[1;33m+\u001b[0m \u001b[0mtimeFrame\u001b[0m\u001b[1;33m\u001b[0m\u001b[1;33m\u001b[0m\u001b[0m\n\u001b[0;32m     16\u001b[0m                 \u001b[1;32mif\u001b[0m \u001b[0mkey\u001b[0m \u001b[1;32mnot\u001b[0m \u001b[1;32min\u001b[0m \u001b[0mRange\u001b[0m\u001b[1;33m.\u001b[0m\u001b[0m_range_instances\u001b[0m\u001b[1;33m:\u001b[0m\u001b[1;33m\u001b[0m\u001b[1;33m\u001b[0m\u001b[0m\n\u001b[1;32m---> 17\u001b[1;33m                         \u001b[0mRange\u001b[0m\u001b[1;33m.\u001b[0m\u001b[0m_range_instances\u001b[0m\u001b[1;33m[\u001b[0m\u001b[0mkey\u001b[0m\u001b[1;33m]\u001b[0m \u001b[1;33m=\u001b[0m \u001b[0mrange\u001b[0m\u001b[1;33m(\u001b[0m\u001b[1;36m0\u001b[0m\u001b[1;33m,\u001b[0m\u001b[1;36m0\u001b[0m\u001b[1;33m)\u001b[0m\u001b[1;33m\u001b[0m\u001b[1;33m\u001b[0m\u001b[0m\n\u001b[0m\u001b[0;32m     18\u001b[0m                 \u001b[1;32mreturn\u001b[0m \u001b[0mRange\u001b[0m\u001b[1;33m.\u001b[0m\u001b[0m_range_instances\u001b[0m\u001b[1;33m[\u001b[0m\u001b[0mkey\u001b[0m\u001b[1;33m]\u001b[0m\u001b[1;33m\u001b[0m\u001b[1;33m\u001b[0m\u001b[0m\n\u001b[0;32m     19\u001b[0m \u001b[1;33m\u001b[0m\u001b[0m\n",
      "\u001b[1;31mTypeError\u001b[0m: 'Range' object is not callable"
     ]
    }
   ],
   "source": [
    "range1 = Range.createRange('ETHUSDT', '1h')\n",
    "print(range1)"
   ]
  },
  {
   "cell_type": "code",
   "execution_count": 13,
   "metadata": {},
   "outputs": [
    {
     "name": "stdout",
     "output_type": "stream",
     "text": [
      "1880\n"
     ]
    }
   ],
   "source": [
    "range = Range(1500, 1880)\n",
    "print (range.top)"
   ]
  },
  {
   "cell_type": "code",
   "execution_count": 15,
   "metadata": {},
   "outputs": [
    {
     "ename": "NameError",
     "evalue": "name 'lower_band' is not defined",
     "output_type": "error",
     "traceback": [
      "\u001b[1;31m---------------------------------------------------------------------------\u001b[0m",
      "\u001b[1;31mNameError\u001b[0m                                 Traceback (most recent call last)",
      "\u001b[1;32m~\\AppData\\Local\\Temp\\ipykernel_5576\\3369004587.py\u001b[0m in \u001b[0;36m<module>\u001b[1;34m\u001b[0m\n\u001b[1;32m----> 1\u001b[1;33m \u001b[0mgetattr\u001b[0m\u001b[1;33m(\u001b[0m\u001b[0mrange1\u001b[0m\u001b[1;33m,\u001b[0m \u001b[0mlower_band\u001b[0m\u001b[1;33m)\u001b[0m\u001b[1;33m\u001b[0m\u001b[1;33m\u001b[0m\u001b[0m\n\u001b[0m",
      "\u001b[1;31mNameError\u001b[0m: name 'lower_band' is not defined"
     ]
    }
   ],
   "source": [
    "fractal1 = Fractal()"
   ]
  }
 ],
 "metadata": {
  "kernelspec": {
   "display_name": "base",
   "language": "python",
   "name": "python3"
  },
  "language_info": {
   "codemirror_mode": {
    "name": "ipython",
    "version": 3
   },
   "file_extension": ".py",
   "mimetype": "text/x-python",
   "name": "python",
   "nbconvert_exporter": "python",
   "pygments_lexer": "ipython3",
   "version": "3.9.13"
  },
  "orig_nbformat": 4,
  "vscode": {
   "interpreter": {
    "hash": "ad2bdc8ecc057115af97d19610ffacc2b4e99fae6737bb82f5d7fb13d2f2c186"
   }
  }
 },
 "nbformat": 4,
 "nbformat_minor": 2
}
