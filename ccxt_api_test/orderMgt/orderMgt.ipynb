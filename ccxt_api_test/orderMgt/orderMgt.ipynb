{
 "cells": [
  {
   "cell_type": "code",
   "execution_count": 1,
   "metadata": {},
   "outputs": [],
   "source": [
    "import ccxt"
   ]
  },
  {
   "cell_type": "code",
   "execution_count": 15,
   "metadata": {},
   "outputs": [],
   "source": [
    "import pandas as pd\n",
    "import numpy as np"
   ]
  },
  {
   "cell_type": "code",
   "execution_count": 18,
   "metadata": {},
   "outputs": [],
   "source": [
    "import typing"
   ]
  },
  {
   "cell_type": "code",
   "execution_count": 2,
   "metadata": {},
   "outputs": [
    {
     "data": {
      "text/plain": [
       "['alpaca',\n",
       " 'ascendex',\n",
       " 'bequant',\n",
       " 'bibox',\n",
       " 'bigone',\n",
       " 'binance',\n",
       " 'binancecoinm',\n",
       " 'binanceus',\n",
       " 'binanceusdm',\n",
       " 'bit2c',\n",
       " 'bitbank',\n",
       " 'bitbay',\n",
       " 'bitbns',\n",
       " 'bitcoincom',\n",
       " 'bitfinex',\n",
       " 'bitfinex2',\n",
       " 'bitflyer',\n",
       " 'bitforex',\n",
       " 'bitget',\n",
       " 'bithumb',\n",
       " 'bitmart',\n",
       " 'bitmex',\n",
       " 'bitopro',\n",
       " 'bitpanda',\n",
       " 'bitrue',\n",
       " 'bitso',\n",
       " 'bitstamp',\n",
       " 'bitstamp1',\n",
       " 'bittrex',\n",
       " 'bitvavo',\n",
       " 'bkex',\n",
       " 'bl3p',\n",
       " 'blockchaincom',\n",
       " 'btcalpha',\n",
       " 'btcbox',\n",
       " 'btcex',\n",
       " 'btcmarkets',\n",
       " 'btctradeua',\n",
       " 'btcturk',\n",
       " 'buda',\n",
       " 'bybit',\n",
       " 'cex',\n",
       " 'coinbase',\n",
       " 'coinbaseprime',\n",
       " 'coinbasepro',\n",
       " 'coincheck',\n",
       " 'coinex',\n",
       " 'coinfalcon',\n",
       " 'coinmate',\n",
       " 'coinone',\n",
       " 'coinspot',\n",
       " 'cryptocom',\n",
       " 'currencycom',\n",
       " 'delta',\n",
       " 'deribit',\n",
       " 'digifinex',\n",
       " 'exmo',\n",
       " 'flowbtc',\n",
       " 'fmfwio',\n",
       " 'gate',\n",
       " 'gateio',\n",
       " 'gemini',\n",
       " 'hitbtc',\n",
       " 'hitbtc3',\n",
       " 'hollaex',\n",
       " 'huobi',\n",
       " 'huobijp',\n",
       " 'huobipro',\n",
       " 'idex',\n",
       " 'independentreserve',\n",
       " 'indodax',\n",
       " 'itbit',\n",
       " 'kraken',\n",
       " 'kucoin',\n",
       " 'kucoinfutures',\n",
       " 'kuna',\n",
       " 'latoken',\n",
       " 'lbank',\n",
       " 'lbank2',\n",
       " 'luno',\n",
       " 'lykke',\n",
       " 'mercado',\n",
       " 'mexc',\n",
       " 'mexc3',\n",
       " 'ndax',\n",
       " 'novadax',\n",
       " 'oceanex',\n",
       " 'okcoin',\n",
       " 'okex',\n",
       " 'okex5',\n",
       " 'okx',\n",
       " 'paymium',\n",
       " 'phemex',\n",
       " 'poloniex',\n",
       " 'probit',\n",
       " 'qtrade',\n",
       " 'ripio',\n",
       " 'stex',\n",
       " 'therock',\n",
       " 'tidex',\n",
       " 'timex',\n",
       " 'tokocrypto',\n",
       " 'upbit',\n",
       " 'wavesexchange',\n",
       " 'wazirx',\n",
       " 'whitebit',\n",
       " 'woo',\n",
       " 'yobit',\n",
       " 'zaif',\n",
       " 'zb',\n",
       " 'zipmex',\n",
       " 'zonda']"
      ]
     },
     "execution_count": 2,
     "metadata": {},
     "output_type": "execute_result"
    }
   ],
   "source": [
    "ccxt.exchanges"
   ]
  },
  {
   "cell_type": "code",
   "execution_count": 3,
   "metadata": {},
   "outputs": [],
   "source": [
    "exchange = ccxt.binanceusdm({\n",
    "    'apiKey' :'296015e94a672f83bfb4076908741a255cd5c9f192da047d12eb63cff4c73a7e',\n",
    "    'secret': '4ecd9157f7b1a8486742374e9627d4ae4cfca3b997d1532ef447dc915fad62f5'\n",
    "})\n",
    "exchange.set_sandbox_mode(True)"
   ]
  },
  {
   "cell_type": "code",
   "execution_count": 47,
   "metadata": {},
   "outputs": [
    {
     "data": {
      "text/plain": [
       "{'publxicAPI': True,\n",
       " 'privateAPI': True,\n",
       " 'CORS': None,\n",
       " 'spot': False,\n",
       " 'margin': False,\n",
       " 'swap': True,\n",
       " 'future': True,\n",
       " 'option': None,\n",
       " 'addMargin': True,\n",
       " 'cancelAllOrders': True,\n",
       " 'cancelOrder': True,\n",
       " 'cancelOrders': None,\n",
       " 'createDepositAddress': False,\n",
       " 'createLimitOrder': True,\n",
       " 'createMarketOrder': True,\n",
       " 'createOrder': True,\n",
       " 'createPostOnlyOrder': None,\n",
       " 'createReduceOnlyOrder': True,\n",
       " 'createStopOrder': True,\n",
       " 'createStopLimitOrder': True,\n",
       " 'createStopMarketOrder': True,\n",
       " 'editOrder': 'emulated',\n",
       " 'fetchAccounts': None,\n",
       " 'fetchBalance': True,\n",
       " 'fetchBidsAsks': True,\n",
       " 'fetchBorrowInterest': True,\n",
       " 'fetchBorrowRate': True,\n",
       " 'fetchBorrowRateHistory': True,\n",
       " 'fetchBorrowRatesPerSymbol': False,\n",
       " 'fetchBorrowRates': False,\n",
       " 'fetchCanceledOrders': False,\n",
       " 'fetchClosedOrder': False,\n",
       " 'fetchClosedOrders': 'emulated',\n",
       " 'fetchCurrencies': True,\n",
       " 'fetchDeposit': False,\n",
       " 'fetchDepositAddress': True,\n",
       " 'fetchDepositAddresses': False,\n",
       " 'fetchDepositAddressesByNetwork': False,\n",
       " 'fetchDeposits': True,\n",
       " 'fetchFundingFee': None,\n",
       " 'fetchFundingFees': None,\n",
       " 'fetchFundingHistory': True,\n",
       " 'fetchFundingRate': True,\n",
       " 'fetchFundingRateHistory': True,\n",
       " 'fetchFundingRates': True,\n",
       " 'fetchIndexOHLCV': True,\n",
       " 'fetchL2OrderBook': True,\n",
       " 'fetchLedger': None,\n",
       " 'fetchLedgerEntry': None,\n",
       " 'fetchLeverageTiers': True,\n",
       " 'fetchMarketLeverageTiers': 'emulated',\n",
       " 'fetchMarkets': True,\n",
       " 'fetchMarkOHLCV': True,\n",
       " 'fetchMyTrades': True,\n",
       " 'fetchOHLCV': True,\n",
       " 'fetchOpenOrder': False,\n",
       " 'fetchOpenOrders': True,\n",
       " 'fetchOrder': True,\n",
       " 'fetchOrderBook': True,\n",
       " 'fetchOrderBooks': False,\n",
       " 'fetchOrders': True,\n",
       " 'fetchOrderTrades': True,\n",
       " 'fetchPermissions': None,\n",
       " 'fetchPosition': None,\n",
       " 'fetchPositions': True,\n",
       " 'fetchPositionsRisk': True,\n",
       " 'fetchPremiumIndexOHLCV': False,\n",
       " 'fetchStatus': True,\n",
       " 'fetchTicker': True,\n",
       " 'fetchTickers': True,\n",
       " 'fetchTime': True,\n",
       " 'fetchTrades': True,\n",
       " 'fetchTradingFee': True,\n",
       " 'fetchTradingFees': True,\n",
       " 'fetchTradingLimits': None,\n",
       " 'fetchTransactions': False,\n",
       " 'fetchTransfers': True,\n",
       " 'fetchWithdrawal': False,\n",
       " 'fetchWithdrawals': True,\n",
       " 'reduceMargin': True,\n",
       " 'setLeverage': True,\n",
       " 'setMargin': False,\n",
       " 'setMarginMode': True,\n",
       " 'setPositionMode': True,\n",
       " 'signIn': False,\n",
       " 'transfer': True,\n",
       " 'withdraw': True,\n",
       " 'borrowMargin': True,\n",
       " 'fetchBorrowRateHistories': False,\n",
       " 'fetchL3OrderBook': False,\n",
       " 'fetchLeverage': False,\n",
       " 'fetchOpenInterestHistory': True,\n",
       " 'fetchTransactionFee': None,\n",
       " 'fetchTransactionFees': True,\n",
       " 'fetchWithdrawalWhitelist': False,\n",
       " 'repayMargin': True}"
      ]
     },
     "execution_count": 47,
     "metadata": {},
     "output_type": "execute_result"
    }
   ],
   "source": [
    "exchange.has"
   ]
  },
  {
   "attachments": {},
   "cell_type": "markdown",
   "metadata": {},
   "source": [
    "### time conversion => since"
   ]
  },
  {
   "cell_type": "code",
   "execution_count": 7,
   "metadata": {},
   "outputs": [],
   "source": [
    "since = exchange.milliseconds()-864000000"
   ]
  },
  {
   "cell_type": "code",
   "execution_count": 16,
   "metadata": {},
   "outputs": [],
   "source": [
    "df = pd.DataFrame(exchange.fetch_ohlcv(symbol='ETHUSDT', timeframe='15m', since = since))"
   ]
  },
  {
   "cell_type": "code",
   "execution_count": 17,
   "metadata": {},
   "outputs": [
    {
     "data": {
      "text/plain": [
       "<bound method NDFrame.head of                  0        1        2        3        4         5\n",
       "0    1677933900000  1567.93  1571.92  1567.47  1571.14  1694.398\n",
       "1    1677934800000  1571.31  1571.38  1567.41  1568.85  1624.247\n",
       "2    1677935700000  1568.84  1570.00  1568.28  1569.22  1144.718\n",
       "3    1677936600000  1569.22  1570.94  1568.94  1569.92  4190.871\n",
       "4    1677937500000  1569.92  1569.93  1566.36  1568.07  2062.378\n",
       "..             ...      ...      ...      ...      ...       ...\n",
       "495  1678379400000  1535.00  1538.91  1530.15  1530.95  3446.692\n",
       "496  1678380300000  1530.15  1538.91  1530.00  1530.00  7468.849\n",
       "497  1678381200000  1531.00  1537.43  1530.00  1530.33  2413.851\n",
       "498  1678382100000  1530.33  1535.02  1530.00  1531.00  2033.797\n",
       "499  1678383000000  1531.00  1533.99  1530.50  1530.50  1070.955\n",
       "\n",
       "[500 rows x 6 columns]>"
      ]
     },
     "execution_count": 17,
     "metadata": {},
     "output_type": "execute_result"
    }
   ],
   "source": [
    "df.head"
   ]
  },
  {
   "cell_type": "code",
   "execution_count": 40,
   "metadata": {},
   "outputs": [],
   "source": [
    "from typing import List\n",
    "from pandas import DataFrame\n",
    "\n",
    "\n",
    "class Utils:\n",
    "    @staticmethod\n",
    "    def wash_df(df: pd.DataFrame)-> pd.DataFrame:\n",
    "        df.columns=['time','open','high','low', 'close','volume']\n",
    "        df.set_index('time', inplace=True)\n",
    "        df.index = pd.to_datetime(df.index, unit='ms')\n",
    "        return df\n",
    "    @staticmethod\n",
    "    def fetchPosition(symbols: List[str]):\n",
    "        data = exchange.fetch_account_positions(symbols)\n",
    "        position = data[0]['info']\n",
    "        return position"
   ]
  },
  {
   "cell_type": "code",
   "execution_count": 22,
   "metadata": {},
   "outputs": [],
   "source": [
    "df = Utils.wash_df(df)"
   ]
  },
  {
   "cell_type": "code",
   "execution_count": 23,
   "metadata": {},
   "outputs": [
    {
     "data": {
      "text/plain": [
       "<bound method NDFrame.head of                         open     high      low    close    volume\n",
       "time                                                             \n",
       "2023-03-04 12:45:00  1567.93  1571.92  1567.47  1571.14  1694.398\n",
       "2023-03-04 13:00:00  1571.31  1571.38  1567.41  1568.85  1624.247\n",
       "2023-03-04 13:15:00  1568.84  1570.00  1568.28  1569.22  1144.718\n",
       "2023-03-04 13:30:00  1569.22  1570.94  1568.94  1569.92  4190.871\n",
       "2023-03-04 13:45:00  1569.92  1569.93  1566.36  1568.07  2062.378\n",
       "...                      ...      ...      ...      ...       ...\n",
       "2023-03-09 16:30:00  1535.00  1538.91  1530.15  1530.95  3446.692\n",
       "2023-03-09 16:45:00  1530.15  1538.91  1530.00  1530.00  7468.849\n",
       "2023-03-09 17:00:00  1531.00  1537.43  1530.00  1530.33  2413.851\n",
       "2023-03-09 17:15:00  1530.33  1535.02  1530.00  1531.00  2033.797\n",
       "2023-03-09 17:30:00  1531.00  1533.99  1530.50  1530.50  1070.955\n",
       "\n",
       "[500 rows x 5 columns]>"
      ]
     },
     "execution_count": 23,
     "metadata": {},
     "output_type": "execute_result"
    }
   ],
   "source": [
    "df.head"
   ]
  },
  {
   "attachments": {},
   "cell_type": "markdown",
   "metadata": {},
   "source": [
    "# create orders"
   ]
  },
  {
   "cell_type": "code",
   "execution_count": 24,
   "metadata": {},
   "outputs": [
    {
     "data": {
      "text/plain": [
       "{'info': {'orderId': '1020287662',\n",
       "  'symbol': 'ETHUSDT',\n",
       "  'status': 'FILLED',\n",
       "  'clientOrderId': 'x-xcKtGhcu2c0c215443e76928a84115',\n",
       "  'price': '0',\n",
       "  'avgPrice': '1710.11000',\n",
       "  'origQty': '1',\n",
       "  'executedQty': '1',\n",
       "  'cumQty': '1',\n",
       "  'cumQuote': '1710.11000',\n",
       "  'timeInForce': 'GTC',\n",
       "  'type': 'MARKET',\n",
       "  'reduceOnly': False,\n",
       "  'closePosition': False,\n",
       "  'side': 'SELL',\n",
       "  'positionSide': 'BOTH',\n",
       "  'stopPrice': '0',\n",
       "  'workingType': 'CONTRACT_PRICE',\n",
       "  'priceProtect': False,\n",
       "  'origType': 'MARKET',\n",
       "  'updateTime': '1678798660324'},\n",
       " 'id': '1020287662',\n",
       " 'clientOrderId': 'x-xcKtGhcu2c0c215443e76928a84115',\n",
       " 'timestamp': None,\n",
       " 'datetime': None,\n",
       " 'lastTradeTimestamp': None,\n",
       " 'symbol': 'ETH/USDT',\n",
       " 'type': 'market',\n",
       " 'timeInForce': 'GTC',\n",
       " 'postOnly': False,\n",
       " 'reduceOnly': False,\n",
       " 'side': 'sell',\n",
       " 'price': 1710.11,\n",
       " 'stopPrice': None,\n",
       " 'amount': 1.0,\n",
       " 'cost': 1710.11,\n",
       " 'average': 1710.11,\n",
       " 'filled': 1.0,\n",
       " 'remaining': 0.0,\n",
       " 'status': 'closed',\n",
       " 'fee': None,\n",
       " 'trades': [],\n",
       " 'fees': []}"
      ]
     },
     "execution_count": 24,
     "metadata": {},
     "output_type": "execute_result"
    }
   ],
   "source": [
    "exchange.create_market_sell_order(symbol='ETHUSDT', amount=1)"
   ]
  },
  {
   "attachments": {},
   "cell_type": "markdown",
   "metadata": {},
   "source": [
    "### clear position @Market"
   ]
  },
  {
   "cell_type": "code",
   "execution_count": 42,
   "metadata": {},
   "outputs": [
    {
     "name": "stdout",
     "output_type": "stream",
     "text": [
      "{'symbol': 'ETHUSDT', 'initialMargin': '86.65515489', 'maintMargin': '8.66551548', 'unrealizedProfit': '-22.99309796', 'positionInitialMargin': '86.65515489', 'openOrderInitialMargin': '0', 'leverage': '20', 'isolated': False, 'entryPrice': '1710.11', 'maxNotional': '10000000', 'positionSide': 'BOTH', 'positionAmt': '-1.000', 'notional': '-1733.10309796', 'isolatedWallet': '0', 'updateTime': '1678798660324', 'bidNotional': '0', 'askNotional': '0', 'crossMargin': '14976.32285804', 'crossWalletBalance': '14999.31595600'}\n"
     ]
    }
   ],
   "source": [
    "position = Utils.fetchPosition(symbols=['ETHUSDT'])\n",
    "print(position)"
   ]
  },
  {
   "cell_type": "code",
   "execution_count": 55,
   "metadata": {},
   "outputs": [],
   "source": [
    "positionAmt = position['positionAmt']\n",
    "if  positionAmt != 0:\n",
    "    side = 'sell' if float(positionAmt) > 0 else 'buy'\n",
    "    amount = abs(float(positionAmt))\n",
    "    exchange.create_order(\n",
    "\t\t'ETHUSDT',\n",
    "\t\t'Market',\n",
    "\t\tside,\n",
    "\t\tamount,\n",
    "\t\t{\n",
    "\t\t\t'closePosition': True\n",
    "\t\t}\n",
    "\t)\n"
   ]
  },
  {
   "cell_type": "code",
   "execution_count": null,
   "metadata": {},
   "outputs": [],
   "source": []
  }
 ],
 "metadata": {
  "kernelspec": {
   "display_name": "base",
   "language": "python",
   "name": "python3"
  },
  "language_info": {
   "codemirror_mode": {
    "name": "ipython",
    "version": 3
   },
   "file_extension": ".py",
   "mimetype": "text/x-python",
   "name": "python",
   "nbconvert_exporter": "python",
   "pygments_lexer": "ipython3",
   "version": "3.9.13"
  },
  "orig_nbformat": 4
 },
 "nbformat": 4,
 "nbformat_minor": 2
}
