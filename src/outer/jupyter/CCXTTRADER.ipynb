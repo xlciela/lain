{
 "cells": [
  {
   "cell_type": "code",
   "execution_count": 1,
   "metadata": {},
   "outputs": [],
   "source": [
    "import ccxt\n",
    "import pandas as pd\n",
    "import time\n",
    "from threading import Thread\n"
   ]
  },
  {
   "cell_type": "code",
   "execution_count": 2,
   "metadata": {},
   "outputs": [],
   "source": [
    "# instantiation of exchange\n",
    "exchange = ccxt.binanceusdm({\n",
    "    'apiKey': '296015e94a672f83bfb4076908741a255cd5c9f192da047d12eb63cff4c73a7e',\n",
    "    'secret': '4ecd9157f7b1a8486742374e9627d4ae4cfca3b997d1532ef447dc915fad62f5',\n",
    "    'enableRateLimit': True,\n",
    "})\n",
    "exchange.set_sandbox_mode(True)\n"
   ]
  },
  {
   "cell_type": "code",
   "execution_count": 9,
   "metadata": {},
   "outputs": [],
   "source": [
    "\n",
    "class CCXTTrader():\n",
    "    def __init__(self, symbol, time_frame):\n",
    "        self.symbol = symbol\n",
    "        self.time_frame = time_frame\n",
    "        self.get_available_intervals()\n",
    "\n",
    "    def get_available_intervals(self):\n",
    "        # get available intervals\n",
    "        I = []\n",
    "        for key, _ in exchange.timeframes.items():\n",
    "            I.append(key)\n",
    "        self.available_intervals = I\n",
    "\n",
    "    # start_trading: get historical data and start streaming live data\n",
    "    def start_trading(self, start=None, Lookback=None):\n",
    "        if not Lookback:\n",
    "            Lookback = 1000\n",
    "        if self.time_frame in self.available_intervals:\n",
    "            # 1. start collecting historical data with Lookback= 1000\n",
    "            self.get_history(symbol=self.symbol,\n",
    "                             interval=self.time_frame, limit=Lookback)\n",
    "            # 2. start streaming live data\n",
    "            thread = Thread(target=self.start_klines_stream, args=(\n",
    "                self.stream_candles, self.symbol, self.time_frame))\n",
    "            thread.start()\n",
    "\n",
    "    # get most recent candles\n",
    "    def get_history(self, symbol, interval, start=None, limit=1000):\n",
    "        if start:\n",
    "            start = exchange.parse8601(start)  # convert to milliseconds\n",
    "\n",
    "        data = exchange.fetch_ohlcv(\n",
    "            symbol=symbol, timeframe=interval, since=start, limit=limit)\n",
    "        last_bar_actual = data[-1][0]  # timestamp of last loaded bar\n",
    "        # timestamp of current bar\n",
    "        last_bar_current = exchange.fetch_ohlcv(\n",
    "            symbol=symbol, timeframe=interval, limit=1)[-1][0]\n",
    "        # if lastBarActual != lastBarCurrent => pull the next 1000 bars\n",
    "        while last_bar_actual != last_bar_current:\n",
    "            time.sleep(0.1)\n",
    "            data += exchange.fetch_ohlcv(symbol=symbol, timeframe=interval,\n",
    "                                         since=last_bar_actual, limit=limit)[1:]\n",
    "            last_bar_actual = data[-1][0]\n",
    "            last_bar_current = exchange.fetch_ohlcv(\n",
    "                symbol=symbol, timeframe=interval, limit=1)[-1][0]\n",
    "\n",
    "        df = pd.DataFrame(data)\n",
    "        df.columns = ['Date', 'Open', 'High', 'Low', 'Close', 'Volume']\n",
    "        df.Date = pd.to_datetime(df.Date, unit='ms')\n",
    "        df.set_index('Date', inplace=True)\n",
    "        df[\"Complete\"] = [True for row in range(len(df)-1)] + [False]\n",
    "        self.last_bar_time = df.index[-1]  # time@last_bar\n",
    "\n",
    "        self.data = df\n",
    "\n",
    "    # define streaming function\n",
    "    def start_klines_stream(self, callback, symbol, interval):\n",
    "        # global RUNNING  # global variable to control the loop externally\n",
    "        self.running = True\n",
    "\n",
    "        while self.running:\n",
    "            res = exchange.fetch_ohlcv(\n",
    "                symbol=symbol, timeframe=interval, limit=2)\n",
    "            if len(res) == 0:\n",
    "                print('no data')\n",
    "            else:\n",
    "                callback(res)\n",
    "            time.sleep(1)\n",
    "\n",
    "    # streaming controller\n",
    "    def stop_stream(self):\n",
    "        self.running = False\n",
    "\n",
    "    # callback to handle streamed candles\n",
    "    def stream_candles(self, res):\n",
    "        # define how to process the streamed data\n",
    "\n",
    "        # extract data from the response\n",
    "        incoming_latest_time = pd.to_datetime(res[-1][0], unit='ms')\n",
    "        first = res[-1][1]\n",
    "        high = res[-1][2]\n",
    "        low = res[-1][3]\n",
    "        close = res[-1][4]\n",
    "        volume = res[-1][5]\n",
    "        \n",
    "        # check if a bar is complete\n",
    "        if incoming_latest_time == self.last_bar_time:\n",
    "            complete = False\n",
    "        else:  # a new bar is created => add the first bar # res[0]\n",
    "            complete = True\n",
    "            if len(res) == 2:\n",
    "                self.data.loc[self.last_bar_time] = [res[0][1],\n",
    "                                                     res[0][2], res[0][3], res[0][4], res[0][5], complete]\n",
    "            else:\n",
    "                self.data.loc[self.last_bar_time, 'Complete'] = complete\n",
    "            self.last_bar_time = incoming_latest_time  # update the last_bar_time\n",
    "\n",
    "        # print sth\n",
    "        print('.', end='', flush=True)\n",
    "\n",
    "        # feed self.data<df> with the latest completed bar\n",
    "        self.data.loc[incoming_latest_time] = [first, high, low, close, volume, False]        \n",
    "\n",
    "        # if a new bar is complete, do trading according to defined strategy\n",
    "        if complete:\n",
    "            print(\"\\n\", \"Define Strategy and execute Trades\")\n",
    "            # TODO: define strategy and execute trades\n",
    "            # self.define_strategy()\n",
    "            # self.execute_trades()\n"
   ]
  },
  {
   "cell_type": "code",
   "execution_count": 10,
   "metadata": {},
   "outputs": [],
   "source": [
    "trader = CCXTTrader(symbol='ETHUSDT', time_frame='1m')"
   ]
  },
  {
   "cell_type": "code",
   "execution_count": 11,
   "metadata": {},
   "outputs": [
    {
     "name": "stdout",
     "output_type": "stream",
     "text": [
      "....................................................\n",
      " Define Strategy and execute Trades\n",
      "........................................................\n",
      " Define Strategy and execute Trades\n",
      ".........................................................\n",
      " Define Strategy and execute Trades\n",
      "..."
     ]
    }
   ],
   "source": [
    "trader.start_trading(start= None, Lookback= 10)"
   ]
  },
  {
   "cell_type": "code",
   "execution_count": 12,
   "metadata": {},
   "outputs": [],
   "source": [
    "trader.stop_stream()"
   ]
  },
  {
   "cell_type": "code",
   "execution_count": 13,
   "metadata": {},
   "outputs": [
    {
     "name": "stdout",
     "output_type": "stream",
     "text": [
      "                        Open     High      Low    Close   Volume  Complete\n",
      "Date                                                                      \n",
      "2023-03-21 11:23:00  1728.99  1730.00  1707.22  1730.00   60.782      True\n",
      "2023-03-21 11:24:00  1730.00  1730.00  1714.44  1714.44   36.747      True\n",
      "2023-03-21 11:25:00  1714.44  1730.00  1705.46  1705.46   97.327      True\n",
      "2023-03-21 11:26:00  1708.00  1716.51  1705.46  1705.46   14.160      True\n",
      "2023-03-21 11:27:00  1705.46  1730.00  1705.46  1730.00   14.027      True\n",
      "2023-03-21 11:28:00  1725.85  1730.00  1714.44  1719.94  148.132      True\n",
      "2023-03-21 11:29:00  1725.85  1729.96  1720.92  1725.85    3.231      True\n",
      "2023-03-21 11:30:00  1720.92  1730.00  1707.22  1730.00  264.343      True\n",
      "2023-03-21 11:31:00  1721.75  1730.00  1705.46  1705.46  131.623      True\n",
      "2023-03-21 11:32:00  1713.59  1714.44  1705.46  1713.59    7.896      True\n",
      "2023-03-21 11:33:00  1705.46  1730.00  1705.46  1721.75  141.532      True\n",
      "2023-03-21 11:34:00  1721.75  1726.54  1721.70  1725.85   19.629      True\n",
      "2023-03-21 11:35:00  1721.70  1721.70  1721.70  1721.70    0.652     False\n"
     ]
    }
   ],
   "source": [
    "print(trader.data)"
   ]
  }
 ],
 "metadata": {
  "kernelspec": {
   "display_name": "base",
   "language": "python",
   "name": "python3"
  },
  "language_info": {
   "codemirror_mode": {
    "name": "ipython",
    "version": 3
   },
   "file_extension": ".py",
   "mimetype": "text/x-python",
   "name": "python",
   "nbconvert_exporter": "python",
   "pygments_lexer": "ipython3",
   "version": "3.9.13"
  },
  "orig_nbformat": 4,
  "vscode": {
   "interpreter": {
    "hash": "ad2bdc8ecc057115af97d19610ffacc2b4e99fae6737bb82f5d7fb13d2f2c186"
   }
  }
 },
 "nbformat": 4,
 "nbformat_minor": 2
}
