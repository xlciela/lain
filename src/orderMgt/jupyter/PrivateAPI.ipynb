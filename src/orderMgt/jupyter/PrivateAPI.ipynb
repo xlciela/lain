{
 "cells": [
  {
   "attachments": {},
   "cell_type": "markdown",
   "metadata": {},
   "source": [
    "### instantiation"
   ]
  },
  {
   "cell_type": "code",
   "execution_count": 1,
   "metadata": {},
   "outputs": [],
   "source": [
    "import ccxt"
   ]
  },
  {
   "cell_type": "code",
   "execution_count": 22,
   "metadata": {},
   "outputs": [
    {
     "data": {
      "text/plain": [
       "{'code': '200', 'msg': 'success'}"
      ]
     },
     "execution_count": 22,
     "metadata": {},
     "output_type": "execute_result"
    }
   ],
   "source": [
    "exchange = ccxt.binanceusdm({\n",
    "\t'apiKey': '296015e94a672f83bfb4076908741a255cd5c9f192da047d12eb63cff4c73a7e',\n",
    "\t'secret': '4ecd9157f7b1a8486742374e9627d4ae4cfca3b997d1532ef447dc915fad62f5',\n",
    "\t'enableRateLimit': True,\n",
    "})\n",
    "# turn on testnet\n",
    "exchange.set_sandbox_mode(True)\n",
    "exchange.set_position_mode(True)"
   ]
  },
  {
   "cell_type": "code",
   "execution_count": 3,
   "metadata": {},
   "outputs": [],
   "source": [
    "exchange.verbose= True"
   ]
  },
  {
   "attachments": {},
   "cell_type": "markdown",
   "metadata": {},
   "source": [
    "`w32tm /resync` # sync the time"
   ]
  },
  {
   "attachments": {},
   "cell_type": "markdown",
   "metadata": {},
   "source": [
    "### get a/c info"
   ]
  },
  {
   "cell_type": "code",
   "execution_count": null,
   "metadata": {},
   "outputs": [],
   "source": [
    "asset_bl = exchange.fetch_balance()['info']['assets']"
   ]
  },
  {
   "cell_type": "code",
   "execution_count": null,
   "metadata": {},
   "outputs": [],
   "source": [
    "asset_bl"
   ]
  },
  {
   "cell_type": "code",
   "execution_count": 5,
   "metadata": {},
   "outputs": [
    {
     "data": {
      "text/plain": [
       "[{'asset': 'ETH',\n",
       "  'walletBalance': '0.00000000',\n",
       "  'unrealizedProfit': '0.00000000',\n",
       "  'marginBalance': '0.00000000',\n",
       "  'maintMargin': '0.00000000',\n",
       "  'initialMargin': '0.00000000',\n",
       "  'positionInitialMargin': '0.00000000',\n",
       "  'openOrderInitialMargin': '0.00000000',\n",
       "  'maxWithdrawAmount': '0.00000000',\n",
       "  'crossWalletBalance': '0.00000000',\n",
       "  'crossUnPnl': '0.00000000',\n",
       "  'availableBalance': '0.00000000',\n",
       "  'marginAvailable': True,\n",
       "  'updateTime': '0'}]"
      ]
     },
     "execution_count": 5,
     "metadata": {},
     "output_type": "execute_result"
    }
   ],
   "source": [
    "# how to filter a list of dict by a key value in python\n",
    "eth_bl = list(filter(lambda x: x['asset'] == 'ETH', asset_bl))\n",
    "eth_bl"
   ]
  },
  {
   "cell_type": "code",
   "execution_count": 11,
   "metadata": {},
   "outputs": [],
   "source": [
    "trades = exchange.fetch_my_trades('ETHUSDT')"
   ]
  },
  {
   "cell_type": "code",
   "execution_count": 12,
   "metadata": {},
   "outputs": [
    {
     "data": {
      "text/plain": [
       "[{'info': {'symbol': 'ETHUSDT',\n",
       "   'id': '114214361',\n",
       "   'orderId': '1025662707',\n",
       "   'side': 'BUY',\n",
       "   'price': '1775.40',\n",
       "   'qty': '0.010',\n",
       "   'realizedPnl': '0',\n",
       "   'marginAsset': 'USDT',\n",
       "   'quoteQty': '17.75400',\n",
       "   'commission': '0.00710160',\n",
       "   'commissionAsset': 'USDT',\n",
       "   'time': '1679660594129',\n",
       "   'positionSide': 'BOTH',\n",
       "   'maker': False,\n",
       "   'buyer': True},\n",
       "  'timestamp': 1679660594129,\n",
       "  'datetime': '2023-03-24T12:23:14.129Z',\n",
       "  'symbol': 'ETH/USDT',\n",
       "  'id': '114214361',\n",
       "  'order': '1025662707',\n",
       "  'type': None,\n",
       "  'side': 'buy',\n",
       "  'takerOrMaker': 'taker',\n",
       "  'price': 1775.4,\n",
       "  'amount': 0.01,\n",
       "  'cost': 17.754,\n",
       "  'fee': {'cost': 0.0071016, 'currency': 'USDT'},\n",
       "  'fees': [{'currency': 'USDT', 'cost': 0.0071016}]},\n",
       " {'info': {'symbol': 'ETHUSDT',\n",
       "   'id': '114214568',\n",
       "   'orderId': '1025668008',\n",
       "   'side': 'SELL',\n",
       "   'price': '1772.30',\n",
       "   'qty': '0.010',\n",
       "   'realizedPnl': '-0.03100000',\n",
       "   'marginAsset': 'USDT',\n",
       "   'quoteQty': '17.72300',\n",
       "   'commission': '0.00708920',\n",
       "   'commissionAsset': 'USDT',\n",
       "   'time': '1679660822443',\n",
       "   'positionSide': 'BOTH',\n",
       "   'maker': False,\n",
       "   'buyer': False},\n",
       "  'timestamp': 1679660822443,\n",
       "  'datetime': '2023-03-24T12:27:02.443Z',\n",
       "  'symbol': 'ETH/USDT',\n",
       "  'id': '114214568',\n",
       "  'order': '1025668008',\n",
       "  'type': None,\n",
       "  'side': 'sell',\n",
       "  'takerOrMaker': 'taker',\n",
       "  'price': 1772.3,\n",
       "  'amount': 0.01,\n",
       "  'cost': 17.723,\n",
       "  'fee': {'cost': 0.0070892, 'currency': 'USDT'},\n",
       "  'fees': [{'currency': 'USDT', 'cost': 0.0070892}]}]"
      ]
     },
     "execution_count": 12,
     "metadata": {},
     "output_type": "execute_result"
    }
   ],
   "source": [
    "trades"
   ]
  },
  {
   "cell_type": "code",
   "execution_count": 24,
   "metadata": {},
   "outputs": [
    {
     "data": {
      "text/plain": [
       "{'info': {'orderId': '1025711140',\n",
       "  'symbol': 'ETHUSDT',\n",
       "  'status': 'FILLED',\n",
       "  'clientOrderId': 'x-xcKtGhcud523b563ae181ba2c6d786',\n",
       "  'price': '0',\n",
       "  'avgPrice': '1772.76000',\n",
       "  'origQty': '0.010',\n",
       "  'executedQty': '0.010',\n",
       "  'cumQty': '0.010',\n",
       "  'cumQuote': '17.72760',\n",
       "  'timeInForce': 'GTC',\n",
       "  'type': 'MARKET',\n",
       "  'reduceOnly': False,\n",
       "  'closePosition': False,\n",
       "  'side': 'BUY',\n",
       "  'positionSide': 'LONG',\n",
       "  'stopPrice': '0',\n",
       "  'workingType': 'CONTRACT_PRICE',\n",
       "  'priceProtect': False,\n",
       "  'origType': 'MARKET',\n",
       "  'updateTime': '1679662577206'},\n",
       " 'id': '1025711140',\n",
       " 'clientOrderId': 'x-xcKtGhcud523b563ae181ba2c6d786',\n",
       " 'timestamp': None,\n",
       " 'datetime': None,\n",
       " 'lastTradeTimestamp': None,\n",
       " 'symbol': 'ETH/USDT',\n",
       " 'type': 'market',\n",
       " 'timeInForce': 'GTC',\n",
       " 'postOnly': False,\n",
       " 'reduceOnly': False,\n",
       " 'side': 'buy',\n",
       " 'price': 1772.76,\n",
       " 'stopPrice': None,\n",
       " 'amount': 0.01,\n",
       " 'cost': 17.7276,\n",
       " 'average': 1772.76,\n",
       " 'filled': 0.01,\n",
       " 'remaining': 0.0,\n",
       " 'status': 'closed',\n",
       " 'fee': None,\n",
       " 'trades': [],\n",
       " 'fees': []}"
      ]
     },
     "execution_count": 24,
     "metadata": {},
     "output_type": "execute_result"
    }
   ],
   "source": [
    "exchange.create_market_buy_order('ETHUSDT', 0.01, {'positionSide': 'LONG'})"
   ]
  },
  {
   "cell_type": "code",
   "execution_count": null,
   "metadata": {},
   "outputs": [],
   "source": [
    "exchange.create_market_sell_order('ETHUSDT', 0.01, {'positionSide': 'SHORT'})"
   ]
  },
  {
   "attachments": {},
   "cell_type": "markdown",
   "metadata": {},
   "source": [
    "e.fetch_position_risk VS e.fetch_positions"
   ]
  },
  {
   "cell_type": "code",
   "execution_count": 27,
   "metadata": {},
   "outputs": [
    {
     "data": {
      "text/plain": [
       "[{'info': {'symbol': 'ETHUSDT',\n",
       "   'positionAmt': '0.000',\n",
       "   'entryPrice': '0.0',\n",
       "   'markPrice': '1772.79093065',\n",
       "   'unRealizedProfit': '0.00000000',\n",
       "   'liquidationPrice': '0',\n",
       "   'leverage': '20',\n",
       "   'maxNotionalValue': '10000000',\n",
       "   'marginType': 'cross',\n",
       "   'isolatedMargin': '0.00000000',\n",
       "   'isAutoAddMargin': 'false',\n",
       "   'positionSide': 'BOTH',\n",
       "   'notional': '0',\n",
       "   'isolatedWallet': '0',\n",
       "   'updateTime': '1679662517427'},\n",
       "  'id': None,\n",
       "  'symbol': 'ETH/USDT',\n",
       "  'contracts': 0.0,\n",
       "  'contractSize': 1.0,\n",
       "  'unrealizedPnl': 0.0,\n",
       "  'leverage': 20.0,\n",
       "  'liquidationPrice': None,\n",
       "  'collateral': 0.0,\n",
       "  'notional': 0.0,\n",
       "  'markPrice': 1772.79093065,\n",
       "  'entryPrice': 0.0,\n",
       "  'timestamp': 1679662517427,\n",
       "  'initialMargin': 0.0,\n",
       "  'initialMarginPercentage': 0.05,\n",
       "  'maintenanceMargin': 0.0,\n",
       "  'maintenanceMarginPercentage': 0.005,\n",
       "  'marginRatio': None,\n",
       "  'datetime': '2023-03-24T12:55:17.427Z',\n",
       "  'marginMode': 'cross',\n",
       "  'marginType': 'cross',\n",
       "  'side': None,\n",
       "  'hedged': False,\n",
       "  'percentage': None},\n",
       " {'info': {'symbol': 'ETHUSDT',\n",
       "   'positionAmt': '0.010',\n",
       "   'entryPrice': '1772.76',\n",
       "   'markPrice': '1772.79093065',\n",
       "   'unRealizedProfit': '0.00030930',\n",
       "   'liquidationPrice': '107139830.14333275',\n",
       "   'leverage': '20',\n",
       "   'maxNotionalValue': '10000000',\n",
       "   'marginType': 'cross',\n",
       "   'isolatedMargin': '0.00000000',\n",
       "   'isAutoAddMargin': 'false',\n",
       "   'positionSide': 'LONG',\n",
       "   'notional': '17.72790930',\n",
       "   'isolatedWallet': '0',\n",
       "   'updateTime': '1679662577206'},\n",
       "  'id': None,\n",
       "  'symbol': 'ETH/USDT',\n",
       "  'contracts': 0.01,\n",
       "  'contractSize': 1.0,\n",
       "  'unrealizedPnl': 0.0003093,\n",
       "  'leverage': 20.0,\n",
       "  'liquidationPrice': 107139830.14333275,\n",
       "  'collateral': -1066023.58232617,\n",
       "  'notional': 17.7279093,\n",
       "  'markPrice': 1772.79093065,\n",
       "  'entryPrice': 1772.76,\n",
       "  'timestamp': 1679662577206,\n",
       "  'initialMargin': 0.88639546,\n",
       "  'initialMarginPercentage': 0.05,\n",
       "  'maintenanceMargin': 0.0886395465,\n",
       "  'maintenanceMarginPercentage': 0.005,\n",
       "  'marginRatio': 0.0,\n",
       "  'datetime': '2023-03-24T12:56:17.206Z',\n",
       "  'marginMode': 'cross',\n",
       "  'marginType': 'cross',\n",
       "  'side': 'long',\n",
       "  'hedged': True,\n",
       "  'percentage': 0.03},\n",
       " {'info': {'symbol': 'ETHUSDT',\n",
       "   'positionAmt': '-0.010',\n",
       "   'entryPrice': '1773.46',\n",
       "   'markPrice': '1772.79093065',\n",
       "   'unRealizedProfit': '0.00669069',\n",
       "   'liquidationPrice': '107139830.14333275',\n",
       "   'leverage': '20',\n",
       "   'maxNotionalValue': '10000000',\n",
       "   'marginType': 'cross',\n",
       "   'isolatedMargin': '0.00000000',\n",
       "   'isAutoAddMargin': 'false',\n",
       "   'positionSide': 'SHORT',\n",
       "   'notional': '-17.72790930',\n",
       "   'isolatedWallet': '0',\n",
       "   'updateTime': '1679662606566'},\n",
       "  'id': None,\n",
       "  'symbol': 'ETH/USDT',\n",
       "  'contracts': 0.01,\n",
       "  'contractSize': 1.0,\n",
       "  'unrealizedPnl': 0.00669069,\n",
       "  'leverage': 20.0,\n",
       "  'liquidationPrice': 107139830.14333275,\n",
       "  'collateral': 1076737.55834049,\n",
       "  'notional': 17.7279093,\n",
       "  'markPrice': 1772.79093065,\n",
       "  'entryPrice': 1773.46,\n",
       "  'timestamp': 1679662606566,\n",
       "  'initialMargin': 0.88639546,\n",
       "  'initialMarginPercentage': 0.05,\n",
       "  'maintenanceMargin': 0.0886395465,\n",
       "  'maintenanceMarginPercentage': 0.005,\n",
       "  'marginRatio': 0.0,\n",
       "  'datetime': '2023-03-24T12:56:46.566Z',\n",
       "  'marginMode': 'cross',\n",
       "  'marginType': 'cross',\n",
       "  'side': 'short',\n",
       "  'hedged': True,\n",
       "  'percentage': 0.75}]"
      ]
     },
     "execution_count": 27,
     "metadata": {},
     "output_type": "execute_result"
    }
   ],
   "source": [
    "exchange.fetch_positions_risk(['ETHUSDT'])\n"
   ]
  },
  {
   "attachments": {},
   "cell_type": "markdown",
   "metadata": {},
   "source": [
    "ref \n",
    "\n",
    "`close_position = binance.create_order(symbol=symbol, type=\"MARKET\", side=\"buy\", amount=pos['positionAmt'], params={\"reduceOnly\": True})`"
   ]
  },
  {
   "cell_type": "code",
   "execution_count": 42,
   "metadata": {},
   "outputs": [
    {
     "data": {
      "text/plain": [
       "[{'info': {'symbol': 'ETHUSDT',\n",
       "   'positionAmt': '0.000',\n",
       "   'entryPrice': '0.0',\n",
       "   'markPrice': '1773.28012586',\n",
       "   'unRealizedProfit': '0.00000000',\n",
       "   'liquidationPrice': '0',\n",
       "   'leverage': '20',\n",
       "   'maxNotionalValue': '10000000',\n",
       "   'marginType': 'cross',\n",
       "   'isolatedMargin': '0.00000000',\n",
       "   'isAutoAddMargin': 'false',\n",
       "   'positionSide': 'BOTH',\n",
       "   'notional': '0',\n",
       "   'isolatedWallet': '0',\n",
       "   'updateTime': '1679662517427'},\n",
       "  'id': None,\n",
       "  'symbol': 'ETH/USDT',\n",
       "  'contracts': 0.0,\n",
       "  'contractSize': 1.0,\n",
       "  'unrealizedPnl': 0.0,\n",
       "  'leverage': 20.0,\n",
       "  'liquidationPrice': None,\n",
       "  'collateral': 0.0,\n",
       "  'notional': 0.0,\n",
       "  'markPrice': 1773.28012586,\n",
       "  'entryPrice': 0.0,\n",
       "  'timestamp': 1679662517427,\n",
       "  'initialMargin': 0.0,\n",
       "  'initialMarginPercentage': 0.05,\n",
       "  'maintenanceMargin': 0.0,\n",
       "  'maintenanceMarginPercentage': 0.005,\n",
       "  'marginRatio': None,\n",
       "  'datetime': '2023-03-24T12:55:17.427Z',\n",
       "  'marginMode': 'cross',\n",
       "  'marginType': 'cross',\n",
       "  'side': None,\n",
       "  'hedged': False,\n",
       "  'percentage': None},\n",
       " {'info': {'symbol': 'ETHUSDT',\n",
       "   'positionAmt': '0.010',\n",
       "   'entryPrice': '1772.76',\n",
       "   'markPrice': '1773.28012586',\n",
       "   'unRealizedProfit': '0.00520125',\n",
       "   'liquidationPrice': '107139830.14333275',\n",
       "   'leverage': '20',\n",
       "   'maxNotionalValue': '10000000',\n",
       "   'marginType': 'cross',\n",
       "   'isolatedMargin': '0.00000000',\n",
       "   'isAutoAddMargin': 'false',\n",
       "   'positionSide': 'LONG',\n",
       "   'notional': '17.73280125',\n",
       "   'isolatedWallet': '0',\n",
       "   'updateTime': '1679662577206'},\n",
       "  'id': None,\n",
       "  'symbol': 'ETH/USDT',\n",
       "  'contracts': 0.01,\n",
       "  'contractSize': 1.0,\n",
       "  'unrealizedPnl': 0.00520125,\n",
       "  'leverage': 20.0,\n",
       "  'liquidationPrice': 107139830.14333275,\n",
       "  'collateral': -1066023.58232617,\n",
       "  'notional': 17.73280125,\n",
       "  'markPrice': 1773.28012586,\n",
       "  'entryPrice': 1772.76,\n",
       "  'timestamp': 1679662577206,\n",
       "  'initialMargin': 0.88664006,\n",
       "  'initialMarginPercentage': 0.05,\n",
       "  'maintenanceMargin': 0.08866400625,\n",
       "  'maintenanceMarginPercentage': 0.005,\n",
       "  'marginRatio': 0.0,\n",
       "  'datetime': '2023-03-24T12:56:17.206Z',\n",
       "  'marginMode': 'cross',\n",
       "  'marginType': 'cross',\n",
       "  'side': 'long',\n",
       "  'hedged': True,\n",
       "  'percentage': 0.58},\n",
       " {'info': {'symbol': 'ETHUSDT',\n",
       "   'positionAmt': '-0.010',\n",
       "   'entryPrice': '1773.46',\n",
       "   'markPrice': '1773.28012586',\n",
       "   'unRealizedProfit': '0.00179874',\n",
       "   'liquidationPrice': '107139830.14333275',\n",
       "   'leverage': '20',\n",
       "   'maxNotionalValue': '10000000',\n",
       "   'marginType': 'cross',\n",
       "   'isolatedMargin': '0.00000000',\n",
       "   'isAutoAddMargin': 'false',\n",
       "   'positionSide': 'SHORT',\n",
       "   'notional': '-17.73280125',\n",
       "   'isolatedWallet': '0',\n",
       "   'updateTime': '1679662606566'},\n",
       "  'id': None,\n",
       "  'symbol': 'ETH/USDT',\n",
       "  'contracts': 0.01,\n",
       "  'contractSize': 1.0,\n",
       "  'unrealizedPnl': 0.00179874,\n",
       "  'leverage': 20.0,\n",
       "  'liquidationPrice': 107139830.14333275,\n",
       "  'collateral': 1076737.55834049,\n",
       "  'notional': 17.73280125,\n",
       "  'markPrice': 1773.28012586,\n",
       "  'entryPrice': 1773.46,\n",
       "  'timestamp': 1679662606566,\n",
       "  'initialMargin': 0.88664006,\n",
       "  'initialMarginPercentage': 0.05,\n",
       "  'maintenanceMargin': 0.08866400625,\n",
       "  'maintenanceMarginPercentage': 0.005,\n",
       "  'marginRatio': 0.0,\n",
       "  'datetime': '2023-03-24T12:56:46.566Z',\n",
       "  'marginMode': 'cross',\n",
       "  'marginType': 'cross',\n",
       "  'side': 'short',\n",
       "  'hedged': True,\n",
       "  'percentage': 0.2}]"
      ]
     },
     "execution_count": 42,
     "metadata": {},
     "output_type": "execute_result"
    }
   ],
   "source": [
    "exchange.fetch_positions(['ETHUSDT'])\n"
   ]
  },
  {
   "cell_type": "code",
   "execution_count": 39,
   "metadata": {},
   "outputs": [
    {
     "data": {
      "text/plain": [
       "[{'asset': 'ETH',\n",
       "  'walletBalance': '0.00000000',\n",
       "  'unrealizedProfit': '0.00000000',\n",
       "  'marginBalance': '0.00000000',\n",
       "  'maintMargin': '0.00000000',\n",
       "  'initialMargin': '0.00000000',\n",
       "  'positionInitialMargin': '0.00000000',\n",
       "  'openOrderInitialMargin': '0.00000000',\n",
       "  'maxWithdrawAmount': '0.00000000',\n",
       "  'crossWalletBalance': '0.00000000',\n",
       "  'crossUnPnl': '0.00000000',\n",
       "  'availableBalance': '0.00000000',\n",
       "  'marginAvailable': True,\n",
       "  'updateTime': '0'}]"
      ]
     },
     "execution_count": 39,
     "metadata": {},
     "output_type": "execute_result"
    }
   ],
   "source": [
    "eth_bl = list(filter( lambda x: x['asset'] == 'ETH', exchange.fetch_balance()['info']['assets']))\n",
    "eth_bl"
   ]
  },
  {
   "attachments": {},
   "cell_type": "markdown",
   "metadata": {},
   "source": [
    "### get position at risk"
   ]
  },
  {
   "cell_type": "code",
   "execution_count": null,
   "metadata": {},
   "outputs": [],
   "source": [
    "pos = [row for row in exchange.fetch_positions_risk(['ETHUSDT']) if row['contracts'] != 0 ]\n",
    "pos\n"
   ]
  },
  {
   "cell_type": "code",
   "execution_count": 55,
   "metadata": {},
   "outputs": [
    {
     "data": {
      "text/plain": [
       "[{'info': {'symbol': 'ETHUSDT',\n",
       "   'positionAmt': '-0.010',\n",
       "   'entryPrice': '1773.46',\n",
       "   'markPrice': '1776.23395149',\n",
       "   'unRealizedProfit': '-0.02773951',\n",
       "   'liquidationPrice': '0',\n",
       "   'leverage': '20',\n",
       "   'maxNotionalValue': '10000000',\n",
       "   'marginType': 'cross',\n",
       "   'isolatedMargin': '0.00000000',\n",
       "   'isAutoAddMargin': 'false',\n",
       "   'positionSide': 'SHORT',\n",
       "   'notional': '-17.76233951',\n",
       "   'isolatedWallet': '0',\n",
       "   'updateTime': '1679662606566'},\n",
       "  'id': None,\n",
       "  'symbol': 'ETH/USDT',\n",
       "  'contracts': 0.01,\n",
       "  'contractSize': 1.0,\n",
       "  'unrealizedPnl': -0.02773951,\n",
       "  'leverage': 20.0,\n",
       "  'liquidationPrice': None,\n",
       "  'collateral': -17.7346,\n",
       "  'notional': 17.76233951,\n",
       "  'markPrice': 1776.23395149,\n",
       "  'entryPrice': 1773.46,\n",
       "  'timestamp': 1679662606566,\n",
       "  'initialMargin': 0.88811697,\n",
       "  'initialMarginPercentage': 0.05,\n",
       "  'maintenanceMargin': 0.08881169755,\n",
       "  'maintenanceMarginPercentage': 0.005,\n",
       "  'marginRatio': -0.005,\n",
       "  'datetime': '2023-03-24T12:56:46.566Z',\n",
       "  'marginMode': 'cross',\n",
       "  'marginType': 'cross',\n",
       "  'side': 'short',\n",
       "  'hedged': True,\n",
       "  'percentage': -3.12}]"
      ]
     },
     "execution_count": 55,
     "metadata": {},
     "output_type": "execute_result"
    }
   ],
   "source": [
    "short_pos = [p for p in pos if p['side'] == 'short']\n",
    "short_pos"
   ]
  },
  {
   "cell_type": "code",
   "execution_count": 53,
   "metadata": {},
   "outputs": [
    {
     "data": {
      "text/plain": [
       "[{'info': {'symbol': 'ETHUSDT',\n",
       "   'positionAmt': '0.020',\n",
       "   'entryPrice': '1773.33',\n",
       "   'markPrice': '1776.23395149',\n",
       "   'unRealizedProfit': '0.05807902',\n",
       "   'liquidationPrice': '0',\n",
       "   'leverage': '20',\n",
       "   'maxNotionalValue': '10000000',\n",
       "   'marginType': 'cross',\n",
       "   'isolatedMargin': '0.00000000',\n",
       "   'isAutoAddMargin': 'false',\n",
       "   'positionSide': 'LONG',\n",
       "   'notional': '35.52467902',\n",
       "   'isolatedWallet': '0',\n",
       "   'updateTime': '1679668138324'},\n",
       "  'id': None,\n",
       "  'symbol': 'ETH/USDT',\n",
       "  'contracts': 0.02,\n",
       "  'contractSize': 1.0,\n",
       "  'unrealizedPnl': 0.05807902,\n",
       "  'leverage': 20.0,\n",
       "  'liquidationPrice': None,\n",
       "  'collateral': 35.4666,\n",
       "  'notional': 35.52467902,\n",
       "  'markPrice': 1776.23395149,\n",
       "  'entryPrice': 1773.33,\n",
       "  'timestamp': 1679668138324,\n",
       "  'initialMargin': 1.77623395,\n",
       "  'initialMarginPercentage': 0.05,\n",
       "  'maintenanceMargin': 0.1776233951,\n",
       "  'maintenanceMarginPercentage': 0.005,\n",
       "  'marginRatio': 0.005,\n",
       "  'datetime': '2023-03-24T14:28:58.324Z',\n",
       "  'marginMode': 'cross',\n",
       "  'marginType': 'cross',\n",
       "  'side': 'long',\n",
       "  'hedged': True,\n",
       "  'percentage': 3.26}]"
      ]
     },
     "execution_count": 53,
     "metadata": {},
     "output_type": "execute_result"
    }
   ],
   "source": [
    "long_pos = [p for p in pos if p['side'] == 'long']\n",
    "long_pos"
   ]
  },
  {
   "cell_type": "code",
   "execution_count": null,
   "metadata": {},
   "outputs": [],
   "source": [
    "exchange.create_market_buy_order('ETHUSDT', 0.01, {'positionSide': 'LONG'})"
   ]
  },
  {
   "attachments": {},
   "cell_type": "markdown",
   "metadata": {},
   "source": [
    "### clear short pos with market order"
   ]
  },
  {
   "cell_type": "code",
   "execution_count": 64,
   "metadata": {},
   "outputs": [
    {
     "data": {
      "text/plain": [
       "{'info': {'orderId': '1025865754',\n",
       "  'symbol': 'ETHUSDT',\n",
       "  'status': 'FILLED',\n",
       "  'clientOrderId': 'x-xcKtGhcubd66aa97ea8a4b22fca7ef',\n",
       "  'price': '0',\n",
       "  'avgPrice': '1766.42000',\n",
       "  'origQty': '0.010',\n",
       "  'executedQty': '0.010',\n",
       "  'cumQty': '0.010',\n",
       "  'cumQuote': '17.66420',\n",
       "  'timeInForce': 'GTC',\n",
       "  'type': 'MARKET',\n",
       "  'reduceOnly': True,\n",
       "  'closePosition': False,\n",
       "  'side': 'BUY',\n",
       "  'positionSide': 'SHORT',\n",
       "  'stopPrice': '0',\n",
       "  'workingType': 'CONTRACT_PRICE',\n",
       "  'priceProtect': False,\n",
       "  'origType': 'MARKET',\n",
       "  'updateTime': '1679668987099'},\n",
       " 'id': '1025865754',\n",
       " 'clientOrderId': 'x-xcKtGhcubd66aa97ea8a4b22fca7ef',\n",
       " 'timestamp': None,\n",
       " 'datetime': None,\n",
       " 'lastTradeTimestamp': None,\n",
       " 'symbol': 'ETH/USDT',\n",
       " 'type': 'market',\n",
       " 'timeInForce': 'GTC',\n",
       " 'postOnly': False,\n",
       " 'reduceOnly': True,\n",
       " 'side': 'buy',\n",
       " 'price': 1766.42,\n",
       " 'stopPrice': None,\n",
       " 'amount': 0.01,\n",
       " 'cost': 17.6642,\n",
       " 'average': 1766.42,\n",
       " 'filled': 0.01,\n",
       " 'remaining': 0.0,\n",
       " 'status': 'closed',\n",
       " 'fee': None,\n",
       " 'trades': [],\n",
       " 'fees': []}"
      ]
     },
     "execution_count": 64,
     "metadata": {},
     "output_type": "execute_result"
    }
   ],
   "source": [
    "exchange.create_market_buy_order('ETHUSDT', 0.01, {'positionSide': 'SHORT'})"
   ]
  },
  {
   "attachments": {},
   "cell_type": "markdown",
   "metadata": {},
   "source": [
    "### set stoploss for the long_pos"
   ]
  },
  {
   "cell_type": "code",
   "execution_count": 78,
   "metadata": {},
   "outputs": [
    {
     "data": {
      "text/plain": [
       "{'info': {'orderId': '1025882750',\n",
       "  'symbol': 'ETHUSDT',\n",
       "  'status': 'NEW',\n",
       "  'clientOrderId': 'x-xcKtGhcu76a1f50bbbf8b505610890',\n",
       "  'price': '0',\n",
       "  'avgPrice': '0.00000',\n",
       "  'origQty': '0',\n",
       "  'executedQty': '0',\n",
       "  'cumQty': '0',\n",
       "  'cumQuote': '0',\n",
       "  'timeInForce': 'GTC',\n",
       "  'type': 'STOP_MARKET',\n",
       "  'reduceOnly': True,\n",
       "  'closePosition': True,\n",
       "  'side': 'SELL',\n",
       "  'positionSide': 'LONG',\n",
       "  'stopPrice': '1680',\n",
       "  'workingType': 'CONTRACT_PRICE',\n",
       "  'priceProtect': False,\n",
       "  'origType': 'STOP_MARKET',\n",
       "  'updateTime': '1679669677297'},\n",
       " 'id': '1025882750',\n",
       " 'clientOrderId': 'x-xcKtGhcu76a1f50bbbf8b505610890',\n",
       " 'timestamp': 1679669677297,\n",
       " 'datetime': '2023-03-24T14:54:37.297Z',\n",
       " 'lastTradeTimestamp': None,\n",
       " 'symbol': 'ETH/USDT',\n",
       " 'type': 'stop_market',\n",
       " 'timeInForce': 'GTC',\n",
       " 'postOnly': False,\n",
       " 'reduceOnly': True,\n",
       " 'side': 'sell',\n",
       " 'price': None,\n",
       " 'stopPrice': 1680.0,\n",
       " 'amount': None,\n",
       " 'cost': 0.0,\n",
       " 'average': None,\n",
       " 'filled': 0.0,\n",
       " 'remaining': None,\n",
       " 'status': 'open',\n",
       " 'fee': None,\n",
       " 'trades': [],\n",
       " 'fees': []}"
      ]
     },
     "execution_count": 78,
     "metadata": {},
     "output_type": "execute_result"
    }
   ],
   "source": [
    "from sympy import reduced_totient\n",
    "\n",
    "\n",
    "exchange.create_stop_order('ETHUSDT','STOP_MARKET', 'sell', 0.02, None, 1680, {\n",
    "    'closePosition': True,\n",
    "    'positionSide': 'LONG'\n",
    "})"
   ]
  }
 ],
 "metadata": {
  "kernelspec": {
   "display_name": "base",
   "language": "python",
   "name": "python3"
  },
  "language_info": {
   "codemirror_mode": {
    "name": "ipython",
    "version": 3
   },
   "file_extension": ".py",
   "mimetype": "text/x-python",
   "name": "python",
   "nbconvert_exporter": "python",
   "pygments_lexer": "ipython3",
   "version": "3.9.13"
  },
  "orig_nbformat": 4,
  "vscode": {
   "interpreter": {
    "hash": "ad2bdc8ecc057115af97d19610ffacc2b4e99fae6737bb82f5d7fb13d2f2c186"
   }
  }
 },
 "nbformat": 4,
 "nbformat_minor": 2
}
